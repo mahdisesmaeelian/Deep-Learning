{
  "cells": [
    {
      "cell_type": "code",
      "execution_count": null,
      "metadata": {
        "id": "ukNfrhJLL6pz"
      },
      "outputs": [],
      "source": [
        "import tensorflow as tf\n",
        "from tensorflow.keras.preprocessing.image import ImageDataGenerator\n",
        "from tensorflow.keras.layers import  Conv2D,MaxPool2D,Flatten,Dense\n",
        "\n",
        "import numpy as np\n",
        "import cv2"
      ]
    },
    {
      "cell_type": "markdown",
      "metadata": {
        "id": "ekV3aZ0bYa7_"
      },
      "source": [
        "## Dataset"
      ]
    },
    {
      "cell_type": "code",
      "execution_count": null,
      "metadata": {
        "id": "BhDQda9UOq_8"
      },
      "outputs": [],
      "source": [
        "dataset_path = \"/content/drive/MyDrive/animal\"\n",
        "\n",
        "width = height = 224\n",
        "\n",
        "idg = ImageDataGenerator(\n",
        "    rescale = 1./255,\n",
        "    horizontal_flip = True,\n",
        "    rotation_range = 15,\n",
        "    zoom_range = 0.1,\n",
        "    brightness_range =  (0.9, 1.1), \n",
        "    validation_split = 0.2\n",
        ")\n",
        "\n",
        "train_data = idg.flow_from_directory(\n",
        "    dataset_path,\n",
        "    target_size = (width , height),\n",
        "    class_mode = 'categorical',\n",
        "    subset = 'training'\n",
        ")\n",
        "\n",
        "val_data = idg.flow_from_directory(\n",
        "    dataset_path,\n",
        "    target_size = (width , height),\n",
        "    class_mode = 'categorical',\n",
        "    subset = 'validation'\n",
        ")"
      ]
    },
    {
      "cell_type": "markdown",
      "metadata": {
        "id": "PakLQnmQiBJF"
      },
      "source": [
        "## Model"
      ]
    },
    {
      "cell_type": "code",
      "execution_count": 17,
      "metadata": {
        "id": "39ZZCc-0iAQO"
      },
      "outputs": [],
      "source": [
        "model = tf.keras.models.Sequential([\n",
        "    Conv2D(32 , (3,3), activation='relu', input_shape=(width, height, 3)),               \n",
        "    Conv2D(32 , (3,3), activation='relu'),\n",
        "    MaxPool2D(),\n",
        "    Conv2D(32 , (3,3), activation='relu'),\n",
        "    Conv2D(32 , (3,3), activation='relu'),\n",
        "    MaxPool2D(),\n",
        "    Conv2D(64 , (3,3), activation='relu'),\n",
        "    Conv2D(64 , (3,3), activation='relu'),\n",
        "    MaxPool2D(),\n",
        "\n",
        "    Flatten(),\n",
        "    Dense(256, activation='relu'),\n",
        "    Dense(5, activation='softmax')\n",
        "])"
      ]
    },
    {
      "cell_type": "code",
      "execution_count": 19,
      "metadata": {
        "id": "NCBepGkKkWyb"
      },
      "outputs": [],
      "source": [
        "model.compile(optimizer=tf.keras.optimizers.Adam(),\n",
        "              loss = tf.keras.losses.categorical_crossentropy,\n",
        "              metrics =['accuracy'] )"
      ]
    },
    {
      "cell_type": "markdown",
      "metadata": {
        "id": "U3_-mOv3k39U"
      },
      "source": [
        "##Train"
      ]
    },
    {
      "cell_type": "code",
      "execution_count": null,
      "metadata": {
        "id": "elMIVsZNkyzz"
      },
      "outputs": [],
      "source": [
        "model.fit(train_data, validation_data= val_data, epochs=20)"
      ]
    },
    {
      "cell_type": "code",
      "source": [
        "dataset_path = \"/content/drive/MyDrive/animal_test\"\n",
        "\n",
        "width = height = 224\n",
        "\n",
        "idg = ImageDataGenerator(\n",
        "    rescale = 1./255\n",
        ")\n",
        "\n",
        "test_data = idg.flow_from_directory(\n",
        "    dataset_path,\n",
        "    target_size = (width , height),\n",
        "    class_mode = 'categorical'\n",
        ")"
      ],
      "metadata": {
        "id": "Hn4CqWdW-qqP"
      },
      "execution_count": null,
      "outputs": []
    },
    {
      "cell_type": "markdown",
      "metadata": {
        "id": "k7XW3ONwrJUa"
      },
      "source": [
        "##Test"
      ]
    },
    {
      "cell_type": "code",
      "execution_count": null,
      "metadata": {
        "id": "dJqRmVP-rbdA"
      },
      "outputs": [],
      "source": [
        "model.evaluate(test_data)"
      ]
    },
    {
      "cell_type": "markdown",
      "metadata": {
        "id": "nLNk2311rn_G"
      },
      "source": [
        "## Inference"
      ]
    },
    {
      "cell_type": "code",
      "execution_count": 23,
      "metadata": {
        "colab": {
          "base_uri": "https://localhost:8080/"
        },
        "id": "ZkiUc6FYrqzo",
        "outputId": "f16a48d4-0c8a-49bf-86ff-24fa28402967"
      },
      "outputs": [
        {
          "output_type": "stream",
          "name": "stdout",
          "text": [
            "🦌\n"
          ]
        }
      ],
      "source": [
        "img = cv2.imread(\"/content/1.jpg\")\n",
        "img = cv2.cvtColor(img, cv2.COLOR_BGR2RGB)\n",
        "img = cv2.resize(img, (width, height))\n",
        "img = img / 255.0\n",
        "img = img.reshape(1, width, height, 3)\n",
        "\n",
        "result = model.predict(img)\n",
        "pred = np.argmax(result)\n",
        "\n",
        "if pred == 0:\n",
        "  print(\"😻\")\n",
        "elif pred == 1:\n",
        "  print(\"🐶\")\n",
        "elif pred == 2:\n",
        "  print(\"🐘\")\n",
        "elif pred == 3:\n",
        "  print(\"🦌\")\n",
        "elif pred == 4:\n",
        "  print(\"🐼\")"
      ]
    }
  ],
  "metadata": {
    "accelerator": "GPU",
    "colab": {
      "name": "Animals_CNN.ipynb",
      "provenance": []
    },
    "kernelspec": {
      "display_name": "Python 3",
      "name": "python3"
    },
    "language_info": {
      "name": "python"
    }
  },
  "nbformat": 4,
  "nbformat_minor": 0
}