{
  "nbformat": 4,
  "nbformat_minor": 0,
  "metadata": {
    "colab": {
      "name": "Telegram_bot.ipynb",
      "provenance": [],
      "collapsed_sections": []
    },
    "kernelspec": {
      "name": "python3",
      "display_name": "Python 3"
    },
    "language_info": {
      "name": "python"
    }
  },
  "cells": [
    {
      "cell_type": "code",
      "source": [
        "! pip install pyTelegramBotAPI"
      ],
      "metadata": {
        "id": "0rpLv8gZ2cv0"
      },
      "execution_count": null,
      "outputs": []
    },
    {
      "cell_type": "code",
      "source": [
        "import telebot\n",
        "import cv2\n",
        "import numpy as np\n",
        "from tensorflow.keras.models import load_model"
      ],
      "metadata": {
        "id": "XQlWIPSa2QoM"
      },
      "execution_count": 30,
      "outputs": []
    },
    {
      "cell_type": "code",
      "execution_count": null,
      "metadata": {
        "id": "tO8kf1dR2Kp4"
      },
      "outputs": [],
      "source": [
        "model = load_model(\"/content/Recognizer.h5\")\n",
        "\n",
        "mybot = telebot.TeleBot(\"Token\",parse_mode=\"None\")\n",
        "\n",
        "@mybot.message_handler(commands=['start'])\n",
        "def send_welcome(message: str):\n",
        "    user_first_name = str(message.chat.first_name)\n",
        "    mybot.reply_to(message, 'Hi ' + user_first_name + \" welcome to my bot :) \")\n",
        "    time_to_send = mybot.send_message(message.chat.id,\"Send me an image about (High heels, Sneakers, Sweatshirts or Bags) I promise to recognize it's category\")\n",
        "    mybot.register_next_step_handler(time_to_send, recieve_file)\n",
        "\n",
        "def recieve_file(message):\n",
        "  try :\n",
        "    fileID = message.photo[2].file_id\n",
        "    path = fileID+\".jpg\"\n",
        "    file_info = mybot.get_file(fileID)\n",
        "    downloaded_file = mybot.download_file(file_info.file_path)\n",
        "\n",
        "    with open(path,'wb') as new_file:\n",
        "      new_file.write(downloaded_file)\n",
        "    \n",
        "    img = cv2.imread(path)\n",
        "    img = cv2.cvtColor(img, cv2.COLOR_BGR2RGB)\n",
        "    img = cv2.resize(img, (224,224))\n",
        "    img = img/255\n",
        "    img = img.reshape(1, 224,224, 3)\n",
        "    pred = model.predict(img)\n",
        "    result = np.argmax(pred)\n",
        "    \n",
        "    if result == 0:\n",
        "      mybot.reply_to(message, 'It looks like a bag 👜')\n",
        "    elif result == 1:\n",
        "      mybot.reply_to(message, 'It looks like a shoes 👠')\n",
        "    elif result == 2:\n",
        "      mybot.reply_to(message, 'It looks like sneakers 👟')\n",
        "    elif result == 3:\n",
        "      mybot.reply_to(message, 'It looks like a sweatshirt 🧥')\n",
        "\n",
        "  except:\n",
        "    mybot.reply_to(message, \"Wrong input\")\n",
        "        \n",
        "@mybot.message_handler(func = lambda message:True)\n",
        "def user_sent_anything(message):\n",
        "    mybot.reply_to(message,\"I didn't get what you want\")\n",
        "\n",
        "@mybot.message_handler(commands=['help'])\n",
        "def get_img(message):\n",
        "    mybot.reply_to(message,\"/rec_img recieve an image and detect it's category\")\n",
        "\n",
        "mybot.polling()"
      ]
    }
  ]
}