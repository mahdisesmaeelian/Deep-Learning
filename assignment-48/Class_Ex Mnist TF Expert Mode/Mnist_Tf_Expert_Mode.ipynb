{
  "nbformat": 4,
  "nbformat_minor": 0,
  "metadata": {
    "colab": {
      "name": "Mnist_Tf_Expert_Mode.ipynb",
      "provenance": [],
      "collapsed_sections": []
    },
    "kernelspec": {
      "name": "python3",
      "display_name": "Python 3"
    },
    "language_info": {
      "name": "python"
    },
    "accelerator": "GPU"
  },
  "cells": [
    {
      "cell_type": "code",
      "execution_count": 10,
      "metadata": {
        "id": "bA8k50JxpgH5"
      },
      "outputs": [],
      "source": [
        "import tensorflow as tf\n",
        "from tensorflow.keras.layers import Conv2D, Flatten, Dense\n",
        "from tensorflow.keras import Model\n",
        "from tqdm import tqdm"
      ]
    },
    {
      "cell_type": "code",
      "source": [
        "#hyper parameters\n",
        "batch_size = 32\n",
        "epochs = 7"
      ],
      "metadata": {
        "id": "JdQeDLd9r3iY"
      },
      "execution_count": 2,
      "outputs": []
    },
    {
      "cell_type": "code",
      "source": [
        "mnist = tf.keras.datasets.mnist\n",
        "\n",
        "(X_train,Y_train), (X_test, Y_test) = mnist.load_data()\n",
        "\n",
        "X_train = X_train / 255.0\n",
        "X_test = X_test / 255.0\n",
        "\n",
        "X_train = X_train[...,tf.newaxis]\n",
        "X_test = X_test[...,tf.newaxis]\n",
        "\n",
        "trian_data = tf.data.Dataset.from_tensor_slices((X_train,Y_train)).shuffle(10000).batch(batch_size)\n",
        "test_data = tf.data.Dataset.from_tensor_slices((X_test,Y_test)).batch(batch_size)"
      ],
      "metadata": {
        "id": "03maJbwOp6mX"
      },
      "execution_count": null,
      "outputs": []
    },
    {
      "cell_type": "code",
      "source": [
        "class MahdisNet(Model):\n",
        "  def __init__(self):\n",
        "    super().__init__()\n",
        "\n",
        "    self.Conv2D_1 = Conv2D(32, (3,3), activation = 'relu')\n",
        "    self.Conv2D_2 = Conv2D(64, (5,5), activation = 'relu')\n",
        "    self.flatten = Flatten()\n",
        "    self.dense_1 = Dense(128, activation = 'relu')\n",
        "    self.dense_2 = Dense(10)\n",
        "\n",
        "  def call(self, x):\n",
        "    y = self.Conv2D_1(x)\n",
        "    # z = self.Conv2D_2(y)\n",
        "    m = self.flatten(y)\n",
        "    n = self.dense_1(m)\n",
        "    out = self.dense_2(n)\n",
        "\n",
        "    return out "
      ],
      "metadata": {
        "id": "-JAmA6MwtK1b"
      },
      "execution_count": 21,
      "outputs": []
    },
    {
      "cell_type": "code",
      "source": [
        "model = MahdisNet()"
      ],
      "metadata": {
        "id": "3rrSlN_Nx8tj"
      },
      "execution_count": 32,
      "outputs": []
    },
    {
      "cell_type": "code",
      "source": [
        "optimizer = tf.keras.optimizers.Adam()\n",
        "\n",
        "loss_function = tf.keras.losses.SparseCategoricalCrossentropy(from_logits = True)"
      ],
      "metadata": {
        "id": "EdCRVZB2yZjq"
      },
      "execution_count": 33,
      "outputs": []
    },
    {
      "cell_type": "code",
      "source": [
        "train_loss = tf.keras.metrics.Mean()\n",
        "test_loss = tf.keras.metrics.Mean()\n",
        "train_accuracy = tf.keras.metrics.SparseCategoricalAccuracy()\n",
        "test_accuracy = tf.keras.metrics.SparseCategoricalAccuracy()"
      ],
      "metadata": {
        "id": "joY6vUBQ4u2j"
      },
      "execution_count": 47,
      "outputs": []
    },
    {
      "cell_type": "code",
      "source": [
        "# names = [\"Sajjad\", \"Yasin\", \"Mehrdad\", \"Alireza\", \"Benyamin\"]\n",
        "# ages = [28, 14, 19, 25, 22]\n",
        "\n",
        "# x = zip(ages,names)\n",
        "# ages, names = zip(*sorted(x))\n",
        "# print(names,ages)"
      ],
      "metadata": {
        "id": "KRWx6zfE4OB6"
      },
      "execution_count": 38,
      "outputs": []
    },
    {
      "cell_type": "code",
      "source": [
        "#train loop\n",
        "#.fit()\n",
        "for epoch in range (epochs):\n",
        "  train_accuracy.reset_states()\n",
        "  test_accuracy.reset_states()\n",
        "  train_loss.reset_states()\n",
        "  test_loss.reset_states()\n",
        "  print(\"Epoch: \", epoch)\n",
        "\n",
        "  #Training------------------------------\n",
        "  for images, labels in tqdm(trian_data):\n",
        "    with tf.GradientTape() as gTape:\n",
        "      predictions = model(images)\n",
        "      loss = loss_function(labels, predictions)\n",
        "\n",
        "      train_loss(loss)\n",
        "      train_accuracy(labels, predictions)\n",
        "\n",
        "    #محاسبات مشتق ها\n",
        "    gradiants = gTape.gradient(loss, model.trainable_variables)\n",
        "    \n",
        "    #update w\n",
        "    optimizer.apply_gradients(zip(gradiants, model.trainable_variables))\n",
        "  \n",
        "  #Validation---------------------------\n",
        "  for images, labels in tqdm(test_data):\n",
        "    predictions = model(images)\n",
        "    loss = loss_function(labels, predictions)\n",
        "    test_accuracy(labels, predictions)\n",
        "    test_loss(loss)\n",
        "\n",
        "  print(\"Train Accuracy: \",train_accuracy.result())\n",
        "  print(\"Test Accuracy: \",test_accuracy.result())\n",
        "  print(\"Train loss : \", train_loss.result())\n",
        "  print(\"Test loss : \", test_loss.result())"
      ],
      "metadata": {
        "id": "MXXN3gSVyxg1",
        "colab": {
          "base_uri": "https://localhost:8080/"
        },
        "outputId": "c9e5874e-d0f5-4a24-d7df-d2c2e46c69e4"
      },
      "execution_count": null,
      "outputs": [
        {
          "output_type": "stream",
          "name": "stdout",
          "text": [
            "Epoch:  0\n"
          ]
        },
        {
          "output_type": "stream",
          "name": "stderr",
          "text": [
            "100%|██████████| 1875/1875 [00:31<00:00, 58.97it/s]\n",
            "100%|██████████| 313/313 [00:02<00:00, 112.04it/s]\n"
          ]
        },
        {
          "output_type": "stream",
          "name": "stdout",
          "text": [
            "Train Accuracy:  tf.Tensor(0.99845, shape=(), dtype=float32)\n",
            "Test Accuracy:  tf.Tensor(0.9837, shape=(), dtype=float32)\n",
            "Train loss :  tf.Tensor(0.0045208274, shape=(), dtype=float32)\n",
            "Test loss :  tf.Tensor(0.07613905, shape=(), dtype=float32)\n",
            "Epoch:  1\n"
          ]
        },
        {
          "output_type": "stream",
          "name": "stderr",
          "text": [
            "100%|██████████| 1875/1875 [00:30<00:00, 61.97it/s]\n",
            "100%|██████████| 313/313 [00:02<00:00, 115.17it/s]\n"
          ]
        },
        {
          "output_type": "stream",
          "name": "stdout",
          "text": [
            "Train Accuracy:  tf.Tensor(0.99835, shape=(), dtype=float32)\n",
            "Test Accuracy:  tf.Tensor(0.9841, shape=(), dtype=float32)\n",
            "Train loss :  tf.Tensor(0.0046809055, shape=(), dtype=float32)\n",
            "Test loss :  tf.Tensor(0.06866725, shape=(), dtype=float32)\n",
            "Epoch:  2\n"
          ]
        },
        {
          "output_type": "stream",
          "name": "stderr",
          "text": [
            "100%|██████████| 1875/1875 [00:41<00:00, 45.67it/s]\n",
            "100%|██████████| 313/313 [00:03<00:00, 93.72it/s] \n"
          ]
        },
        {
          "output_type": "stream",
          "name": "stdout",
          "text": [
            "Train Accuracy:  tf.Tensor(0.9988, shape=(), dtype=float32)\n",
            "Test Accuracy:  tf.Tensor(0.9849, shape=(), dtype=float32)\n",
            "Train loss :  tf.Tensor(0.003391232, shape=(), dtype=float32)\n",
            "Test loss :  tf.Tensor(0.07029543, shape=(), dtype=float32)\n",
            "Epoch:  3\n"
          ]
        },
        {
          "output_type": "stream",
          "name": "stderr",
          "text": [
            " 36%|███▌      | 678/1875 [00:11<00:19, 61.96it/s]"
          ]
        }
      ]
    },
    {
      "cell_type": "code",
      "source": [
        "model.save(\"weights.h5\")"
      ],
      "metadata": {
        "id": "oAbMPui_Aqkt"
      },
      "execution_count": null,
      "outputs": []
    }
  ]
}