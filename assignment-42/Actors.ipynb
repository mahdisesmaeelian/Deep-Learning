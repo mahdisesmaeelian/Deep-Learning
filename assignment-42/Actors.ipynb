{
 "cells": [
  {
   "cell_type": "markdown",
   "metadata": {
    "id": "d5Iz-xPBOVTd"
   },
   "source": [
    "**Import Required Libraries**"
   ]
  },
  {
   "cell_type": "code",
   "execution_count": 39,
   "metadata": {
    "id": "Nh60Fg02JdbK"
   },
   "outputs": [],
   "source": [
    "import tensorflow as tf\n",
    "from tensorflow.keras.layers import Dense\n",
    "import numpy as np\n",
    "from deepface import DeepFace\n",
    "import pandas as pd\n",
    "from sklearn.model_selection import train_test_split\n",
    "import wandb\n",
    "import cv2\n",
    "from wandb.keras import WandbCallback"
   ]
  },
  {
   "cell_type": "code",
   "execution_count": null,
   "metadata": {
    "colab": {
     "base_uri": "https://localhost:8080/",
     "height": 212,
     "referenced_widgets": [
      "78280efb90fc4b0bb38c7b0ae253c460",
      "5d0bcc691b4047569d3b8d9a1d896345",
      "c2808bb552f242719c2e1aa718948039",
      "e31f6797b3fc4aada937360dd5e651b8",
      "ab8d434c324e41f0b61e813a2687613d",
      "30a9aaa85d704b8a946e81bf69f8642b",
      "72c54956db60442c8a4b7a29a32e0e9c",
      "9c3d35b1542448569fd0ddeda5028ad7"
     ]
    },
    "id": "NxOoFaF_Nv9s",
    "outputId": "e7ba57b2-e29d-49a0-db37-429026c75753"
   },
   "outputs": [],
   "source": [
    "wandb.init(project=\"Actor Detection\")"
   ]
  },
  {
   "cell_type": "markdown",
   "metadata": {
    "id": "wHKNFaahONVi"
   },
   "source": [
    "**Data**"
   ]
  },
  {
   "cell_type": "code",
   "execution_count": 42,
   "metadata": {
    "id": "GEajEB6PKS3j"
   },
   "outputs": [],
   "source": [
    "emb_list = []\n",
    "cat_list = []\n",
    "\n",
    "for i in range(3):\n",
    "  for j in range(1,21):\n",
    "    embedding = DeepFace.represent(img_path = f\"input\\{i}\"f\" ({j}).jpg\", model_name = 'Facenet')\n",
    "    emb_list.append(embedding)\n",
    "    cat_list.append(i)"
   ]
  },
  {
   "cell_type": "code",
   "execution_count": 43,
   "metadata": {
    "colab": {
     "base_uri": "https://localhost:8080/",
     "height": 300
    },
    "id": "qS4OGKH9Libh",
    "outputId": "b331834b-6c13-4f86-b79d-e649691c2dbd"
   },
   "outputs": [
    {
     "data": {
      "text/html": [
       "\n",
       "  <div id=\"df-7e438dc5-7156-4225-9b0f-530d2b2297c1\">\n",
       "    <div class=\"colab-df-container\">\n",
       "      <div>\n",
       "<style scoped>\n",
       "    .dataframe tbody tr th:only-of-type {\n",
       "        vertical-align: middle;\n",
       "    }\n",
       "\n",
       "    .dataframe tbody tr th {\n",
       "        vertical-align: top;\n",
       "    }\n",
       "\n",
       "    .dataframe thead th {\n",
       "        text-align: right;\n",
       "    }\n",
       "</style>\n",
       "<table border=\"1\" class=\"dataframe\">\n",
       "  <thead>\n",
       "    <tr style=\"text-align: right;\">\n",
       "      <th></th>\n",
       "      <th>0</th>\n",
       "      <th>1</th>\n",
       "      <th>2</th>\n",
       "      <th>3</th>\n",
       "      <th>4</th>\n",
       "      <th>5</th>\n",
       "      <th>6</th>\n",
       "      <th>7</th>\n",
       "      <th>8</th>\n",
       "      <th>9</th>\n",
       "      <th>...</th>\n",
       "      <th>119</th>\n",
       "      <th>120</th>\n",
       "      <th>121</th>\n",
       "      <th>122</th>\n",
       "      <th>123</th>\n",
       "      <th>124</th>\n",
       "      <th>125</th>\n",
       "      <th>126</th>\n",
       "      <th>127</th>\n",
       "      <th>category</th>\n",
       "    </tr>\n",
       "  </thead>\n",
       "  <tbody>\n",
       "    <tr>\n",
       "      <th>0</th>\n",
       "      <td>0.705229</td>\n",
       "      <td>-0.467777</td>\n",
       "      <td>-0.849564</td>\n",
       "      <td>1.631884</td>\n",
       "      <td>0.781920</td>\n",
       "      <td>-1.074667</td>\n",
       "      <td>0.605650</td>\n",
       "      <td>-0.553223</td>\n",
       "      <td>0.463141</td>\n",
       "      <td>1.357267</td>\n",
       "      <td>...</td>\n",
       "      <td>0.089603</td>\n",
       "      <td>0.087537</td>\n",
       "      <td>1.491058</td>\n",
       "      <td>0.300430</td>\n",
       "      <td>-1.436116</td>\n",
       "      <td>-0.676035</td>\n",
       "      <td>0.206691</td>\n",
       "      <td>-1.134410</td>\n",
       "      <td>0.895477</td>\n",
       "      <td>0</td>\n",
       "    </tr>\n",
       "    <tr>\n",
       "      <th>1</th>\n",
       "      <td>-0.332985</td>\n",
       "      <td>-0.330223</td>\n",
       "      <td>-0.866652</td>\n",
       "      <td>1.594688</td>\n",
       "      <td>2.301664</td>\n",
       "      <td>0.116573</td>\n",
       "      <td>-1.522974</td>\n",
       "      <td>1.932201</td>\n",
       "      <td>1.022533</td>\n",
       "      <td>1.514163</td>\n",
       "      <td>...</td>\n",
       "      <td>-0.373162</td>\n",
       "      <td>-0.048413</td>\n",
       "      <td>0.704640</td>\n",
       "      <td>-0.371660</td>\n",
       "      <td>-2.395536</td>\n",
       "      <td>0.188537</td>\n",
       "      <td>-1.178383</td>\n",
       "      <td>0.112215</td>\n",
       "      <td>0.987411</td>\n",
       "      <td>0</td>\n",
       "    </tr>\n",
       "    <tr>\n",
       "      <th>2</th>\n",
       "      <td>0.290644</td>\n",
       "      <td>0.950106</td>\n",
       "      <td>-0.213829</td>\n",
       "      <td>1.623187</td>\n",
       "      <td>1.202535</td>\n",
       "      <td>-0.308924</td>\n",
       "      <td>1.210230</td>\n",
       "      <td>-0.343003</td>\n",
       "      <td>0.627491</td>\n",
       "      <td>1.614541</td>\n",
       "      <td>...</td>\n",
       "      <td>0.037902</td>\n",
       "      <td>0.677695</td>\n",
       "      <td>0.871504</td>\n",
       "      <td>-0.598366</td>\n",
       "      <td>-2.574017</td>\n",
       "      <td>-0.332315</td>\n",
       "      <td>-0.447244</td>\n",
       "      <td>-0.514461</td>\n",
       "      <td>-0.148675</td>\n",
       "      <td>0</td>\n",
       "    </tr>\n",
       "    <tr>\n",
       "      <th>3</th>\n",
       "      <td>-0.468002</td>\n",
       "      <td>-0.292499</td>\n",
       "      <td>-0.836633</td>\n",
       "      <td>0.629525</td>\n",
       "      <td>1.532991</td>\n",
       "      <td>-0.744017</td>\n",
       "      <td>-0.868493</td>\n",
       "      <td>0.063227</td>\n",
       "      <td>1.062264</td>\n",
       "      <td>1.181333</td>\n",
       "      <td>...</td>\n",
       "      <td>-0.227405</td>\n",
       "      <td>-0.242751</td>\n",
       "      <td>1.348131</td>\n",
       "      <td>0.502554</td>\n",
       "      <td>-2.490005</td>\n",
       "      <td>0.318960</td>\n",
       "      <td>-0.464727</td>\n",
       "      <td>-0.271058</td>\n",
       "      <td>0.054087</td>\n",
       "      <td>0</td>\n",
       "    </tr>\n",
       "    <tr>\n",
       "      <th>4</th>\n",
       "      <td>-0.031010</td>\n",
       "      <td>-0.418403</td>\n",
       "      <td>-0.310325</td>\n",
       "      <td>1.643237</td>\n",
       "      <td>1.757546</td>\n",
       "      <td>-0.835343</td>\n",
       "      <td>0.569866</td>\n",
       "      <td>0.098678</td>\n",
       "      <td>0.711295</td>\n",
       "      <td>1.898196</td>\n",
       "      <td>...</td>\n",
       "      <td>0.165184</td>\n",
       "      <td>0.526260</td>\n",
       "      <td>1.350363</td>\n",
       "      <td>-0.508886</td>\n",
       "      <td>-0.633738</td>\n",
       "      <td>0.203807</td>\n",
       "      <td>-0.785905</td>\n",
       "      <td>-0.245729</td>\n",
       "      <td>-0.003731</td>\n",
       "      <td>0</td>\n",
       "    </tr>\n",
       "  </tbody>\n",
       "</table>\n",
       "<p>5 rows × 129 columns</p>\n",
       "</div>\n",
       "      <button class=\"colab-df-convert\" onclick=\"convertToInteractive('df-7e438dc5-7156-4225-9b0f-530d2b2297c1')\"\n",
       "              title=\"Convert this dataframe to an interactive table.\"\n",
       "              style=\"display:none;\">\n",
       "        \n",
       "  <svg xmlns=\"http://www.w3.org/2000/svg\" height=\"24px\"viewBox=\"0 0 24 24\"\n",
       "       width=\"24px\">\n",
       "    <path d=\"M0 0h24v24H0V0z\" fill=\"none\"/>\n",
       "    <path d=\"M18.56 5.44l.94 2.06.94-2.06 2.06-.94-2.06-.94-.94-2.06-.94 2.06-2.06.94zm-11 1L8.5 8.5l.94-2.06 2.06-.94-2.06-.94L8.5 2.5l-.94 2.06-2.06.94zm10 10l.94 2.06.94-2.06 2.06-.94-2.06-.94-.94-2.06-.94 2.06-2.06.94z\"/><path d=\"M17.41 7.96l-1.37-1.37c-.4-.4-.92-.59-1.43-.59-.52 0-1.04.2-1.43.59L10.3 9.45l-7.72 7.72c-.78.78-.78 2.05 0 2.83L4 21.41c.39.39.9.59 1.41.59.51 0 1.02-.2 1.41-.59l7.78-7.78 2.81-2.81c.8-.78.8-2.07 0-2.86zM5.41 20L4 18.59l7.72-7.72 1.47 1.35L5.41 20z\"/>\n",
       "  </svg>\n",
       "      </button>\n",
       "      \n",
       "  <style>\n",
       "    .colab-df-container {\n",
       "      display:flex;\n",
       "      flex-wrap:wrap;\n",
       "      gap: 12px;\n",
       "    }\n",
       "\n",
       "    .colab-df-convert {\n",
       "      background-color: #E8F0FE;\n",
       "      border: none;\n",
       "      border-radius: 50%;\n",
       "      cursor: pointer;\n",
       "      display: none;\n",
       "      fill: #1967D2;\n",
       "      height: 32px;\n",
       "      padding: 0 0 0 0;\n",
       "      width: 32px;\n",
       "    }\n",
       "\n",
       "    .colab-df-convert:hover {\n",
       "      background-color: #E2EBFA;\n",
       "      box-shadow: 0px 1px 2px rgba(60, 64, 67, 0.3), 0px 1px 3px 1px rgba(60, 64, 67, 0.15);\n",
       "      fill: #174EA6;\n",
       "    }\n",
       "\n",
       "    [theme=dark] .colab-df-convert {\n",
       "      background-color: #3B4455;\n",
       "      fill: #D2E3FC;\n",
       "    }\n",
       "\n",
       "    [theme=dark] .colab-df-convert:hover {\n",
       "      background-color: #434B5C;\n",
       "      box-shadow: 0px 1px 3px 1px rgba(0, 0, 0, 0.15);\n",
       "      filter: drop-shadow(0px 1px 2px rgba(0, 0, 0, 0.3));\n",
       "      fill: #FFFFFF;\n",
       "    }\n",
       "  </style>\n",
       "\n",
       "      <script>\n",
       "        const buttonEl =\n",
       "          document.querySelector('#df-7e438dc5-7156-4225-9b0f-530d2b2297c1 button.colab-df-convert');\n",
       "        buttonEl.style.display =\n",
       "          google.colab.kernel.accessAllowed ? 'block' : 'none';\n",
       "\n",
       "        async function convertToInteractive(key) {\n",
       "          const element = document.querySelector('#df-7e438dc5-7156-4225-9b0f-530d2b2297c1');\n",
       "          const dataTable =\n",
       "            await google.colab.kernel.invokeFunction('convertToInteractive',\n",
       "                                                     [key], {});\n",
       "          if (!dataTable) return;\n",
       "\n",
       "          const docLinkHtml = 'Like what you see? Visit the ' +\n",
       "            '<a target=\"_blank\" href=https://colab.research.google.com/notebooks/data_table.ipynb>data table notebook</a>'\n",
       "            + ' to learn more about interactive tables.';\n",
       "          element.innerHTML = '';\n",
       "          dataTable['output_type'] = 'display_data';\n",
       "          await google.colab.output.renderOutput(dataTable, element);\n",
       "          const docLink = document.createElement('div');\n",
       "          docLink.innerHTML = docLinkHtml;\n",
       "          element.appendChild(docLink);\n",
       "        }\n",
       "      </script>\n",
       "    </div>\n",
       "  </div>\n",
       "  "
      ],
      "text/plain": [
       "          0         1         2         3         4         5         6  \\\n",
       "0  0.705229 -0.467777 -0.849564  1.631884  0.781920 -1.074667  0.605650   \n",
       "1 -0.332985 -0.330223 -0.866652  1.594688  2.301664  0.116573 -1.522974   \n",
       "2  0.290644  0.950106 -0.213829  1.623187  1.202535 -0.308924  1.210230   \n",
       "3 -0.468002 -0.292499 -0.836633  0.629525  1.532991 -0.744017 -0.868493   \n",
       "4 -0.031010 -0.418403 -0.310325  1.643237  1.757546 -0.835343  0.569866   \n",
       "\n",
       "          7         8         9  ...       119       120       121       122  \\\n",
       "0 -0.553223  0.463141  1.357267  ...  0.089603  0.087537  1.491058  0.300430   \n",
       "1  1.932201  1.022533  1.514163  ... -0.373162 -0.048413  0.704640 -0.371660   \n",
       "2 -0.343003  0.627491  1.614541  ...  0.037902  0.677695  0.871504 -0.598366   \n",
       "3  0.063227  1.062264  1.181333  ... -0.227405 -0.242751  1.348131  0.502554   \n",
       "4  0.098678  0.711295  1.898196  ...  0.165184  0.526260  1.350363 -0.508886   \n",
       "\n",
       "        123       124       125       126       127  category  \n",
       "0 -1.436116 -0.676035  0.206691 -1.134410  0.895477         0  \n",
       "1 -2.395536  0.188537 -1.178383  0.112215  0.987411         0  \n",
       "2 -2.574017 -0.332315 -0.447244 -0.514461 -0.148675         0  \n",
       "3 -2.490005  0.318960 -0.464727 -0.271058  0.054087         0  \n",
       "4 -0.633738  0.203807 -0.785905 -0.245729 -0.003731         0  \n",
       "\n",
       "[5 rows x 129 columns]"
      ]
     },
     "execution_count": 43,
     "metadata": {},
     "output_type": "execute_result"
    }
   ],
   "source": [
    "df = pd.DataFrame(emb_list)\n",
    "df['category'] = cat_list\n",
    "df.to_csv('feature_list.csv', index=False)\n",
    "df.head(5)"
   ]
  },
  {
   "cell_type": "code",
   "execution_count": null,
   "metadata": {
    "colab": {
     "base_uri": "https://localhost:8080/"
    },
    "id": "Afxbh0kXOydE",
    "outputId": "b4bea7e2-c784-4ea7-f8a0-22c30b423732"
   },
   "outputs": [],
   "source": [
    "X = df.iloc[0:,0:128].values\n",
    "Y = df['category'].values"
   ]
  },
  {
   "cell_type": "code",
   "execution_count": 45,
   "metadata": {
    "id": "mFsNvdUIRjIf"
   },
   "outputs": [],
   "source": [
    "X_train,X_test,Y_train,Y_test = train_test_split(X ,Y ,shuffle=True)"
   ]
  },
  {
   "cell_type": "code",
   "execution_count": 46,
   "metadata": {
    "id": "eN6Tg06ROIp2"
   },
   "outputs": [],
   "source": [
    "config = wandb.config\n",
    "config.learning_rate = 0.1"
   ]
  },
  {
   "cell_type": "markdown",
   "metadata": {
    "id": "oZBuCyBgYEOb"
   },
   "source": [
    "**Model**"
   ]
  },
  {
   "cell_type": "code",
   "execution_count": 47,
   "metadata": {
    "id": "_voH0OCpYF1f"
   },
   "outputs": [],
   "source": [
    "model = tf.keras.models.Sequential([\n",
    "    Dense(127 ,activation=\"sigmoid\"),\n",
    "    Dense(128, activation=\"relu\"),\n",
    "    Dense(256, activation=\"relu\"),\n",
    "    Dense(3, activation=\"softmax\") \n",
    "])"
   ]
  },
  {
   "cell_type": "code",
   "execution_count": 48,
   "metadata": {
    "id": "dWHqdCrLYNN4"
   },
   "outputs": [],
   "source": [
    "model.compile(optimizer=tf.keras.optimizers.SGD(config.learning_rate),\n",
    "              loss = tf.keras.losses.sparse_categorical_crossentropy,\n",
    "              metrics = ['accuracy'])"
   ]
  },
  {
   "cell_type": "code",
   "execution_count": null,
   "metadata": {
    "colab": {
     "base_uri": "https://localhost:8080/"
    },
    "id": "rlyXgz0rYQek",
    "outputId": "33be09e0-5d53-4fcb-fdf2-82947cacc2b7"
   },
   "outputs": [],
   "source": [
    "model.fit(X_train, Y_train, epochs=150, validation_data=(X_test, Y_test),callbacks=[WandbCallback()])"
   ]
  },
  {
   "cell_type": "code",
   "execution_count": 50,
   "metadata": {
    "colab": {
     "base_uri": "https://localhost:8080/"
    },
    "id": "1HukuWW7wV66",
    "outputId": "a9031c9d-b59c-4a2e-9d71-c0448a6a41dc"
   },
   "outputs": [
    {
     "name": "stdout",
     "output_type": "stream",
     "text": [
      "1/1 [==============================] - 0s 24ms/step - loss: 0.0490 - accuracy: 1.0000\n"
     ]
    },
    {
     "data": {
      "text/plain": [
       "[0.04903601109981537, 1.0]"
      ]
     },
     "execution_count": 50,
     "metadata": {},
     "output_type": "execute_result"
    }
   ],
   "source": [
    "model.evaluate(X_test, Y_test)"
   ]
  },
  {
   "cell_type": "markdown",
   "metadata": {
    "id": "ECid9iIexqj8"
   },
   "source": [
    "**Test**"
   ]
  },
  {
   "cell_type": "code",
   "execution_count": 51,
   "metadata": {
    "colab": {
     "base_uri": "https://localhost:8080/"
    },
    "id": "-hCkoe9jxUfR",
    "outputId": "b9536365-c01a-4bd7-c26f-1ff18a912225"
   },
   "outputs": [
    {
     "data": {
      "text/plain": [
       "0"
      ]
     },
     "execution_count": 51,
     "metadata": {},
     "output_type": "execute_result"
    }
   ],
   "source": [
    "test_img= DeepFace.represent(img_path = 'input\\0 (55).jpg' , model_name = 'Facenet')\n",
    "\n",
    "result = model.predict([test_img])\n",
    "np.argmax(result)"
   ]
  }
 ],
 "metadata": {
  "colab": {
   "collapsed_sections": [],
   "name": "Actors.ipynb",
   "provenance": []
  },
  "kernelspec": {
   "display_name": "Python 3 (ipykernel)",
   "language": "python",
   "name": "python3"
  },
  "language_info": {
   "codemirror_mode": {
    "name": "ipython",
    "version": 3
   },
   "file_extension": ".py",
   "mimetype": "text/x-python",
   "name": "python",
   "nbconvert_exporter": "python",
   "pygments_lexer": "ipython3",
   "version": "3.9.10"
  },
  "widgets": {
   "application/vnd.jupyter.widget-state+json": {
    "30a9aaa85d704b8a946e81bf69f8642b": {
     "model_module": "@jupyter-widgets/base",
     "model_module_version": "1.2.0",
     "model_name": "LayoutModel",
     "state": {
      "_model_module": "@jupyter-widgets/base",
      "_model_module_version": "1.2.0",
      "_model_name": "LayoutModel",
      "_view_count": null,
      "_view_module": "@jupyter-widgets/base",
      "_view_module_version": "1.2.0",
      "_view_name": "LayoutView",
      "align_content": null,
      "align_items": null,
      "align_self": null,
      "border": null,
      "bottom": null,
      "display": null,
      "flex": null,
      "flex_flow": null,
      "grid_area": null,
      "grid_auto_columns": null,
      "grid_auto_flow": null,
      "grid_auto_rows": null,
      "grid_column": null,
      "grid_gap": null,
      "grid_row": null,
      "grid_template_areas": null,
      "grid_template_columns": null,
      "grid_template_rows": null,
      "height": null,
      "justify_content": null,
      "justify_items": null,
      "left": null,
      "margin": null,
      "max_height": null,
      "max_width": null,
      "min_height": null,
      "min_width": null,
      "object_fit": null,
      "object_position": null,
      "order": null,
      "overflow": null,
      "overflow_x": null,
      "overflow_y": null,
      "padding": null,
      "right": null,
      "top": null,
      "visibility": null,
      "width": null
     }
    },
    "5d0bcc691b4047569d3b8d9a1d896345": {
     "model_module": "@jupyter-widgets/base",
     "model_module_version": "1.2.0",
     "model_name": "LayoutModel",
     "state": {
      "_model_module": "@jupyter-widgets/base",
      "_model_module_version": "1.2.0",
      "_model_name": "LayoutModel",
      "_view_count": null,
      "_view_module": "@jupyter-widgets/base",
      "_view_module_version": "1.2.0",
      "_view_name": "LayoutView",
      "align_content": null,
      "align_items": null,
      "align_self": null,
      "border": null,
      "bottom": null,
      "display": null,
      "flex": null,
      "flex_flow": null,
      "grid_area": null,
      "grid_auto_columns": null,
      "grid_auto_flow": null,
      "grid_auto_rows": null,
      "grid_column": null,
      "grid_gap": null,
      "grid_row": null,
      "grid_template_areas": null,
      "grid_template_columns": null,
      "grid_template_rows": null,
      "height": null,
      "justify_content": null,
      "justify_items": null,
      "left": null,
      "margin": null,
      "max_height": null,
      "max_width": null,
      "min_height": null,
      "min_width": null,
      "object_fit": null,
      "object_position": null,
      "order": null,
      "overflow": null,
      "overflow_x": null,
      "overflow_y": null,
      "padding": null,
      "right": null,
      "top": null,
      "visibility": null,
      "width": null
     }
    },
    "72c54956db60442c8a4b7a29a32e0e9c": {
     "model_module": "@jupyter-widgets/controls",
     "model_module_version": "1.5.0",
     "model_name": "ProgressStyleModel",
     "state": {
      "_model_module": "@jupyter-widgets/controls",
      "_model_module_version": "1.5.0",
      "_model_name": "ProgressStyleModel",
      "_view_count": null,
      "_view_module": "@jupyter-widgets/base",
      "_view_module_version": "1.2.0",
      "_view_name": "StyleView",
      "bar_color": null,
      "description_width": ""
     }
    },
    "78280efb90fc4b0bb38c7b0ae253c460": {
     "model_module": "@jupyter-widgets/controls",
     "model_module_version": "1.5.0",
     "model_name": "VBoxModel",
     "state": {
      "_dom_classes": [],
      "_model_module": "@jupyter-widgets/controls",
      "_model_module_version": "1.5.0",
      "_model_name": "VBoxModel",
      "_view_count": null,
      "_view_module": "@jupyter-widgets/controls",
      "_view_module_version": "1.5.0",
      "_view_name": "VBoxView",
      "box_style": "",
      "children": [
       "IPY_MODEL_c2808bb552f242719c2e1aa718948039",
       "IPY_MODEL_e31f6797b3fc4aada937360dd5e651b8"
      ],
      "layout": "IPY_MODEL_5d0bcc691b4047569d3b8d9a1d896345"
     }
    },
    "9c3d35b1542448569fd0ddeda5028ad7": {
     "model_module": "@jupyter-widgets/base",
     "model_module_version": "1.2.0",
     "model_name": "LayoutModel",
     "state": {
      "_model_module": "@jupyter-widgets/base",
      "_model_module_version": "1.2.0",
      "_model_name": "LayoutModel",
      "_view_count": null,
      "_view_module": "@jupyter-widgets/base",
      "_view_module_version": "1.2.0",
      "_view_name": "LayoutView",
      "align_content": null,
      "align_items": null,
      "align_self": null,
      "border": null,
      "bottom": null,
      "display": null,
      "flex": null,
      "flex_flow": null,
      "grid_area": null,
      "grid_auto_columns": null,
      "grid_auto_flow": null,
      "grid_auto_rows": null,
      "grid_column": null,
      "grid_gap": null,
      "grid_row": null,
      "grid_template_areas": null,
      "grid_template_columns": null,
      "grid_template_rows": null,
      "height": null,
      "justify_content": null,
      "justify_items": null,
      "left": null,
      "margin": null,
      "max_height": null,
      "max_width": null,
      "min_height": null,
      "min_width": null,
      "object_fit": null,
      "object_position": null,
      "order": null,
      "overflow": null,
      "overflow_x": null,
      "overflow_y": null,
      "padding": null,
      "right": null,
      "top": null,
      "visibility": null,
      "width": null
     }
    },
    "ab8d434c324e41f0b61e813a2687613d": {
     "model_module": "@jupyter-widgets/controls",
     "model_module_version": "1.5.0",
     "model_name": "DescriptionStyleModel",
     "state": {
      "_model_module": "@jupyter-widgets/controls",
      "_model_module_version": "1.5.0",
      "_model_name": "DescriptionStyleModel",
      "_view_count": null,
      "_view_module": "@jupyter-widgets/base",
      "_view_module_version": "1.2.0",
      "_view_name": "StyleView",
      "description_width": ""
     }
    },
    "c2808bb552f242719c2e1aa718948039": {
     "model_module": "@jupyter-widgets/controls",
     "model_module_version": "1.5.0",
     "model_name": "LabelModel",
     "state": {
      "_dom_classes": [],
      "_model_module": "@jupyter-widgets/controls",
      "_model_module_version": "1.5.0",
      "_model_name": "LabelModel",
      "_view_count": null,
      "_view_module": "@jupyter-widgets/controls",
      "_view_module_version": "1.5.0",
      "_view_name": "LabelView",
      "description": "",
      "description_tooltip": null,
      "layout": "IPY_MODEL_30a9aaa85d704b8a946e81bf69f8642b",
      "placeholder": "​",
      "style": "IPY_MODEL_ab8d434c324e41f0b61e813a2687613d",
      "value": "0.008 MB of 0.008 MB uploaded (0.000 MB deduped)\r"
     }
    },
    "e31f6797b3fc4aada937360dd5e651b8": {
     "model_module": "@jupyter-widgets/controls",
     "model_module_version": "1.5.0",
     "model_name": "FloatProgressModel",
     "state": {
      "_dom_classes": [],
      "_model_module": "@jupyter-widgets/controls",
      "_model_module_version": "1.5.0",
      "_model_name": "FloatProgressModel",
      "_view_count": null,
      "_view_module": "@jupyter-widgets/controls",
      "_view_module_version": "1.5.0",
      "_view_name": "ProgressView",
      "bar_style": "",
      "description": "",
      "description_tooltip": null,
      "layout": "IPY_MODEL_9c3d35b1542448569fd0ddeda5028ad7",
      "max": 1,
      "min": 0,
      "orientation": "horizontal",
      "style": "IPY_MODEL_72c54956db60442c8a4b7a29a32e0e9c",
      "value": 1
     }
    }
   }
  }
 },
 "nbformat": 4,
 "nbformat_minor": 4
}
