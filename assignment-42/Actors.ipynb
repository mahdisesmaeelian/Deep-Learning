{
  "nbformat": 4,
  "nbformat_minor": 0,
  "metadata": {
    "colab": {
      "name": "Actors.ipynb",
      "provenance": [],
      "collapsed_sections": []
    },
    "kernelspec": {
      "name": "python3",
      "display_name": "Python 3"
    },
    "language_info": {
      "name": "python"
    },
    "widgets": {
      "application/vnd.jupyter.widget-state+json": {
        "78280efb90fc4b0bb38c7b0ae253c460": {
          "model_module": "@jupyter-widgets/controls",
          "model_name": "VBoxModel",
          "model_module_version": "1.5.0",
          "state": {
            "_view_name": "VBoxView",
            "_dom_classes": [],
            "_model_name": "VBoxModel",
            "_view_module": "@jupyter-widgets/controls",
            "_model_module_version": "1.5.0",
            "_view_count": null,
            "_view_module_version": "1.5.0",
            "box_style": "",
            "layout": "IPY_MODEL_5d0bcc691b4047569d3b8d9a1d896345",
            "_model_module": "@jupyter-widgets/controls",
            "children": [
              "IPY_MODEL_c2808bb552f242719c2e1aa718948039",
              "IPY_MODEL_e31f6797b3fc4aada937360dd5e651b8"
            ]
          }
        },
        "5d0bcc691b4047569d3b8d9a1d896345": {
          "model_module": "@jupyter-widgets/base",
          "model_name": "LayoutModel",
          "model_module_version": "1.2.0",
          "state": {
            "_view_name": "LayoutView",
            "grid_template_rows": null,
            "right": null,
            "justify_content": null,
            "_view_module": "@jupyter-widgets/base",
            "overflow": null,
            "_model_module_version": "1.2.0",
            "_view_count": null,
            "flex_flow": null,
            "width": null,
            "min_width": null,
            "border": null,
            "align_items": null,
            "bottom": null,
            "_model_module": "@jupyter-widgets/base",
            "top": null,
            "grid_column": null,
            "overflow_y": null,
            "overflow_x": null,
            "grid_auto_flow": null,
            "grid_area": null,
            "grid_template_columns": null,
            "flex": null,
            "_model_name": "LayoutModel",
            "justify_items": null,
            "grid_row": null,
            "max_height": null,
            "align_content": null,
            "visibility": null,
            "align_self": null,
            "height": null,
            "min_height": null,
            "padding": null,
            "grid_auto_rows": null,
            "grid_gap": null,
            "max_width": null,
            "order": null,
            "_view_module_version": "1.2.0",
            "grid_template_areas": null,
            "object_position": null,
            "object_fit": null,
            "grid_auto_columns": null,
            "margin": null,
            "display": null,
            "left": null
          }
        },
        "c2808bb552f242719c2e1aa718948039": {
          "model_module": "@jupyter-widgets/controls",
          "model_name": "LabelModel",
          "model_module_version": "1.5.0",
          "state": {
            "_view_name": "LabelView",
            "style": "IPY_MODEL_ab8d434c324e41f0b61e813a2687613d",
            "_dom_classes": [],
            "description": "",
            "_model_name": "LabelModel",
            "placeholder": "​",
            "_view_module": "@jupyter-widgets/controls",
            "_model_module_version": "1.5.0",
            "value": "0.008 MB of 0.008 MB uploaded (0.000 MB deduped)\r",
            "_view_count": null,
            "_view_module_version": "1.5.0",
            "description_tooltip": null,
            "_model_module": "@jupyter-widgets/controls",
            "layout": "IPY_MODEL_30a9aaa85d704b8a946e81bf69f8642b"
          }
        },
        "e31f6797b3fc4aada937360dd5e651b8": {
          "model_module": "@jupyter-widgets/controls",
          "model_name": "FloatProgressModel",
          "model_module_version": "1.5.0",
          "state": {
            "_view_name": "ProgressView",
            "style": "IPY_MODEL_72c54956db60442c8a4b7a29a32e0e9c",
            "_dom_classes": [],
            "description": "",
            "_model_name": "FloatProgressModel",
            "bar_style": "",
            "max": 1,
            "_view_module": "@jupyter-widgets/controls",
            "_model_module_version": "1.5.0",
            "value": 1,
            "_view_count": null,
            "_view_module_version": "1.5.0",
            "orientation": "horizontal",
            "min": 0,
            "description_tooltip": null,
            "_model_module": "@jupyter-widgets/controls",
            "layout": "IPY_MODEL_9c3d35b1542448569fd0ddeda5028ad7"
          }
        },
        "ab8d434c324e41f0b61e813a2687613d": {
          "model_module": "@jupyter-widgets/controls",
          "model_name": "DescriptionStyleModel",
          "model_module_version": "1.5.0",
          "state": {
            "_view_name": "StyleView",
            "_model_name": "DescriptionStyleModel",
            "description_width": "",
            "_view_module": "@jupyter-widgets/base",
            "_model_module_version": "1.5.0",
            "_view_count": null,
            "_view_module_version": "1.2.0",
            "_model_module": "@jupyter-widgets/controls"
          }
        },
        "30a9aaa85d704b8a946e81bf69f8642b": {
          "model_module": "@jupyter-widgets/base",
          "model_name": "LayoutModel",
          "model_module_version": "1.2.0",
          "state": {
            "_view_name": "LayoutView",
            "grid_template_rows": null,
            "right": null,
            "justify_content": null,
            "_view_module": "@jupyter-widgets/base",
            "overflow": null,
            "_model_module_version": "1.2.0",
            "_view_count": null,
            "flex_flow": null,
            "width": null,
            "min_width": null,
            "border": null,
            "align_items": null,
            "bottom": null,
            "_model_module": "@jupyter-widgets/base",
            "top": null,
            "grid_column": null,
            "overflow_y": null,
            "overflow_x": null,
            "grid_auto_flow": null,
            "grid_area": null,
            "grid_template_columns": null,
            "flex": null,
            "_model_name": "LayoutModel",
            "justify_items": null,
            "grid_row": null,
            "max_height": null,
            "align_content": null,
            "visibility": null,
            "align_self": null,
            "height": null,
            "min_height": null,
            "padding": null,
            "grid_auto_rows": null,
            "grid_gap": null,
            "max_width": null,
            "order": null,
            "_view_module_version": "1.2.0",
            "grid_template_areas": null,
            "object_position": null,
            "object_fit": null,
            "grid_auto_columns": null,
            "margin": null,
            "display": null,
            "left": null
          }
        },
        "72c54956db60442c8a4b7a29a32e0e9c": {
          "model_module": "@jupyter-widgets/controls",
          "model_name": "ProgressStyleModel",
          "model_module_version": "1.5.0",
          "state": {
            "_view_name": "StyleView",
            "_model_name": "ProgressStyleModel",
            "description_width": "",
            "_view_module": "@jupyter-widgets/base",
            "_model_module_version": "1.5.0",
            "_view_count": null,
            "_view_module_version": "1.2.0",
            "bar_color": null,
            "_model_module": "@jupyter-widgets/controls"
          }
        },
        "9c3d35b1542448569fd0ddeda5028ad7": {
          "model_module": "@jupyter-widgets/base",
          "model_name": "LayoutModel",
          "model_module_version": "1.2.0",
          "state": {
            "_view_name": "LayoutView",
            "grid_template_rows": null,
            "right": null,
            "justify_content": null,
            "_view_module": "@jupyter-widgets/base",
            "overflow": null,
            "_model_module_version": "1.2.0",
            "_view_count": null,
            "flex_flow": null,
            "width": null,
            "min_width": null,
            "border": null,
            "align_items": null,
            "bottom": null,
            "_model_module": "@jupyter-widgets/base",
            "top": null,
            "grid_column": null,
            "overflow_y": null,
            "overflow_x": null,
            "grid_auto_flow": null,
            "grid_area": null,
            "grid_template_columns": null,
            "flex": null,
            "_model_name": "LayoutModel",
            "justify_items": null,
            "grid_row": null,
            "max_height": null,
            "align_content": null,
            "visibility": null,
            "align_self": null,
            "height": null,
            "min_height": null,
            "padding": null,
            "grid_auto_rows": null,
            "grid_gap": null,
            "max_width": null,
            "order": null,
            "_view_module_version": "1.2.0",
            "grid_template_areas": null,
            "object_position": null,
            "object_fit": null,
            "grid_auto_columns": null,
            "margin": null,
            "display": null,
            "left": null
          }
        }
      }
    }
  },
  "cells": [
    {
      "cell_type": "markdown",
      "source": [
        "Import **Required** Libraries"
      ],
      "metadata": {
        "id": "d5Iz-xPBOVTd"
      }
    },
    {
      "cell_type": "code",
      "source": [
        "# Requirements\n",
        "# !pip install wandb\n",
        "# !pip install tensorflow"
      ],
      "metadata": {
        "id": "DtRzxZ9u42b2"
      },
      "execution_count": null,
      "outputs": []
    },
    {
      "cell_type": "code",
      "execution_count": 39,
      "metadata": {
        "id": "Nh60Fg02JdbK"
      },
      "outputs": [],
      "source": [
        "import tensorflow as tf\n",
        "from tensorflow.keras.layers import Dense\n",
        "import numpy as np\n",
        "from deepface import DeepFace\n",
        "import pandas as pd\n",
        "from sklearn.model_selection import train_test_split\n",
        "import wandb\n",
        "import cv2\n",
        "from wandb.keras import WandbCallback"
      ]
    },
    {
      "cell_type": "code",
      "source": [
        "wandb.init(project=\"Actor Detection\")"
      ],
      "metadata": {
        "colab": {
          "base_uri": "https://localhost:8080/",
          "height": 212,
          "referenced_widgets": [
            "78280efb90fc4b0bb38c7b0ae253c460",
            "5d0bcc691b4047569d3b8d9a1d896345",
            "c2808bb552f242719c2e1aa718948039",
            "e31f6797b3fc4aada937360dd5e651b8",
            "ab8d434c324e41f0b61e813a2687613d",
            "30a9aaa85d704b8a946e81bf69f8642b",
            "72c54956db60442c8a4b7a29a32e0e9c",
            "9c3d35b1542448569fd0ddeda5028ad7"
          ]
        },
        "id": "NxOoFaF_Nv9s",
        "outputId": "e7ba57b2-e29d-49a0-db37-429026c75753"
      },
      "execution_count": 41,
      "outputs": [
        {
          "output_type": "display_data",
          "data": {
            "text/html": [
              "Finishing last run (ID:1mz88baq) before initializing another..."
            ],
            "text/plain": [
              "<IPython.core.display.HTML object>"
            ]
          },
          "metadata": {}
        },
        {
          "output_type": "stream",
          "name": "stdout",
          "text": [
            "\n"
          ]
        },
        {
          "output_type": "display_data",
          "data": {
            "text/html": [
              "Waiting for W&B process to finish... <strong style=\"color:green\">(success).</strong>"
            ],
            "text/plain": [
              "<IPython.core.display.HTML object>"
            ]
          },
          "metadata": {}
        },
        {
          "output_type": "display_data",
          "data": {
            "application/vnd.jupyter.widget-view+json": {
              "model_id": "78280efb90fc4b0bb38c7b0ae253c460",
              "version_minor": 0,
              "version_major": 2
            },
            "text/plain": [
              "VBox(children=(Label(value='0.001 MB of 0.001 MB uploaded (0.000 MB deduped)\\r'), FloatProgress(value=1.0, max…"
            ]
          },
          "metadata": {}
        },
        {
          "output_type": "display_data",
          "data": {
            "text/html": [
              "Synced <strong style=\"color:#cdcd00\">feasible-sound-2</strong>: <a href=\"https://wandb.ai/mahdis-esmaeelian/Actor%20Detection/runs/1mz88baq\" target=\"_blank\">https://wandb.ai/mahdis-esmaeelian/Actor%20Detection/runs/1mz88baq</a><br/>Synced 4 W&B file(s), 0 media file(s), 0 artifact file(s) and 0 other file(s)"
            ],
            "text/plain": [
              "<IPython.core.display.HTML object>"
            ]
          },
          "metadata": {}
        },
        {
          "output_type": "display_data",
          "data": {
            "text/html": [
              "Find logs at: <code>./wandb/run-20220305_212705-1mz88baq/logs</code>"
            ],
            "text/plain": [
              "<IPython.core.display.HTML object>"
            ]
          },
          "metadata": {}
        },
        {
          "output_type": "display_data",
          "data": {
            "text/html": [
              "Successfully finished last run (ID:1mz88baq). Initializing new run:<br/>"
            ],
            "text/plain": [
              "<IPython.core.display.HTML object>"
            ]
          },
          "metadata": {}
        },
        {
          "output_type": "display_data",
          "data": {
            "text/html": [
              "Tracking run with wandb version 0.12.11"
            ],
            "text/plain": [
              "<IPython.core.display.HTML object>"
            ]
          },
          "metadata": {}
        },
        {
          "output_type": "display_data",
          "data": {
            "text/html": [
              "Run data is saved locally in <code>/content/wandb/run-20220305_212759-h4lrstpi</code>"
            ],
            "text/plain": [
              "<IPython.core.display.HTML object>"
            ]
          },
          "metadata": {}
        },
        {
          "output_type": "display_data",
          "data": {
            "text/html": [
              "Syncing run <strong><a href=\"https://wandb.ai/mahdis-esmaeelian/Actor%20Detection/runs/h4lrstpi\" target=\"_blank\">fine-sound-2</a></strong> to <a href=\"https://wandb.ai/mahdis-esmaeelian/Actor%20Detection\" target=\"_blank\">Weights & Biases</a> (<a href=\"https://wandb.me/run\" target=\"_blank\">docs</a>)<br/>"
            ],
            "text/plain": [
              "<IPython.core.display.HTML object>"
            ]
          },
          "metadata": {}
        },
        {
          "output_type": "execute_result",
          "data": {
            "text/plain": [
              "<wandb.sdk.wandb_run.Run at 0x7f9151891a90>"
            ],
            "text/html": [
              "<button onClick=\"this.nextSibling.style.display='block';this.style.display='none';\">Display W&B run</button><iframe src=\"https://wandb.ai/mahdis-esmaeelian/Actor%20Detection/runs/h4lrstpi?jupyter=true\" style=\"border:none;width:100%;height:420px;display:none;\"></iframe>"
            ]
          },
          "metadata": {},
          "execution_count": 41
        }
      ]
    },
    {
      "cell_type": "markdown",
      "source": [
        "**Data**"
      ],
      "metadata": {
        "id": "wHKNFaahONVi"
      }
    },
    {
      "cell_type": "code",
      "source": [
        "emb_list = []\n",
        "cat_list = []\n",
        "\n",
        "for i in range(3):\n",
        "  for j in range(1,21):\n",
        "    embedding = DeepFace.represent(img_path = f\"input\\{i}\"f\" ({j}).jpg\", model_name = 'Facenet')\n",
        "    emb_list.append(embedding)\n",
        "    cat_list.append(i)"
      ],
      "metadata": {
        "id": "GEajEB6PKS3j"
      },
      "execution_count": 42,
      "outputs": []
    },
    {
      "cell_type": "code",
      "source": [
        "df = pd.DataFrame(emb_list)\n",
        "df['category'] = cat_list\n",
        "df.to_csv('feature_list.csv', index=False)\n",
        "df.head(5)"
      ],
      "metadata": {
        "id": "qS4OGKH9Libh",
        "outputId": "b331834b-6c13-4f86-b79d-e649691c2dbd",
        "colab": {
          "base_uri": "https://localhost:8080/",
          "height": 300
        }
      },
      "execution_count": 43,
      "outputs": [
        {
          "output_type": "execute_result",
          "data": {
            "text/html": [
              "\n",
              "  <div id=\"df-7e438dc5-7156-4225-9b0f-530d2b2297c1\">\n",
              "    <div class=\"colab-df-container\">\n",
              "      <div>\n",
              "<style scoped>\n",
              "    .dataframe tbody tr th:only-of-type {\n",
              "        vertical-align: middle;\n",
              "    }\n",
              "\n",
              "    .dataframe tbody tr th {\n",
              "        vertical-align: top;\n",
              "    }\n",
              "\n",
              "    .dataframe thead th {\n",
              "        text-align: right;\n",
              "    }\n",
              "</style>\n",
              "<table border=\"1\" class=\"dataframe\">\n",
              "  <thead>\n",
              "    <tr style=\"text-align: right;\">\n",
              "      <th></th>\n",
              "      <th>0</th>\n",
              "      <th>1</th>\n",
              "      <th>2</th>\n",
              "      <th>3</th>\n",
              "      <th>4</th>\n",
              "      <th>5</th>\n",
              "      <th>6</th>\n",
              "      <th>7</th>\n",
              "      <th>8</th>\n",
              "      <th>9</th>\n",
              "      <th>...</th>\n",
              "      <th>119</th>\n",
              "      <th>120</th>\n",
              "      <th>121</th>\n",
              "      <th>122</th>\n",
              "      <th>123</th>\n",
              "      <th>124</th>\n",
              "      <th>125</th>\n",
              "      <th>126</th>\n",
              "      <th>127</th>\n",
              "      <th>category</th>\n",
              "    </tr>\n",
              "  </thead>\n",
              "  <tbody>\n",
              "    <tr>\n",
              "      <th>0</th>\n",
              "      <td>0.705229</td>\n",
              "      <td>-0.467777</td>\n",
              "      <td>-0.849564</td>\n",
              "      <td>1.631884</td>\n",
              "      <td>0.781920</td>\n",
              "      <td>-1.074667</td>\n",
              "      <td>0.605650</td>\n",
              "      <td>-0.553223</td>\n",
              "      <td>0.463141</td>\n",
              "      <td>1.357267</td>\n",
              "      <td>...</td>\n",
              "      <td>0.089603</td>\n",
              "      <td>0.087537</td>\n",
              "      <td>1.491058</td>\n",
              "      <td>0.300430</td>\n",
              "      <td>-1.436116</td>\n",
              "      <td>-0.676035</td>\n",
              "      <td>0.206691</td>\n",
              "      <td>-1.134410</td>\n",
              "      <td>0.895477</td>\n",
              "      <td>0</td>\n",
              "    </tr>\n",
              "    <tr>\n",
              "      <th>1</th>\n",
              "      <td>-0.332985</td>\n",
              "      <td>-0.330223</td>\n",
              "      <td>-0.866652</td>\n",
              "      <td>1.594688</td>\n",
              "      <td>2.301664</td>\n",
              "      <td>0.116573</td>\n",
              "      <td>-1.522974</td>\n",
              "      <td>1.932201</td>\n",
              "      <td>1.022533</td>\n",
              "      <td>1.514163</td>\n",
              "      <td>...</td>\n",
              "      <td>-0.373162</td>\n",
              "      <td>-0.048413</td>\n",
              "      <td>0.704640</td>\n",
              "      <td>-0.371660</td>\n",
              "      <td>-2.395536</td>\n",
              "      <td>0.188537</td>\n",
              "      <td>-1.178383</td>\n",
              "      <td>0.112215</td>\n",
              "      <td>0.987411</td>\n",
              "      <td>0</td>\n",
              "    </tr>\n",
              "    <tr>\n",
              "      <th>2</th>\n",
              "      <td>0.290644</td>\n",
              "      <td>0.950106</td>\n",
              "      <td>-0.213829</td>\n",
              "      <td>1.623187</td>\n",
              "      <td>1.202535</td>\n",
              "      <td>-0.308924</td>\n",
              "      <td>1.210230</td>\n",
              "      <td>-0.343003</td>\n",
              "      <td>0.627491</td>\n",
              "      <td>1.614541</td>\n",
              "      <td>...</td>\n",
              "      <td>0.037902</td>\n",
              "      <td>0.677695</td>\n",
              "      <td>0.871504</td>\n",
              "      <td>-0.598366</td>\n",
              "      <td>-2.574017</td>\n",
              "      <td>-0.332315</td>\n",
              "      <td>-0.447244</td>\n",
              "      <td>-0.514461</td>\n",
              "      <td>-0.148675</td>\n",
              "      <td>0</td>\n",
              "    </tr>\n",
              "    <tr>\n",
              "      <th>3</th>\n",
              "      <td>-0.468002</td>\n",
              "      <td>-0.292499</td>\n",
              "      <td>-0.836633</td>\n",
              "      <td>0.629525</td>\n",
              "      <td>1.532991</td>\n",
              "      <td>-0.744017</td>\n",
              "      <td>-0.868493</td>\n",
              "      <td>0.063227</td>\n",
              "      <td>1.062264</td>\n",
              "      <td>1.181333</td>\n",
              "      <td>...</td>\n",
              "      <td>-0.227405</td>\n",
              "      <td>-0.242751</td>\n",
              "      <td>1.348131</td>\n",
              "      <td>0.502554</td>\n",
              "      <td>-2.490005</td>\n",
              "      <td>0.318960</td>\n",
              "      <td>-0.464727</td>\n",
              "      <td>-0.271058</td>\n",
              "      <td>0.054087</td>\n",
              "      <td>0</td>\n",
              "    </tr>\n",
              "    <tr>\n",
              "      <th>4</th>\n",
              "      <td>-0.031010</td>\n",
              "      <td>-0.418403</td>\n",
              "      <td>-0.310325</td>\n",
              "      <td>1.643237</td>\n",
              "      <td>1.757546</td>\n",
              "      <td>-0.835343</td>\n",
              "      <td>0.569866</td>\n",
              "      <td>0.098678</td>\n",
              "      <td>0.711295</td>\n",
              "      <td>1.898196</td>\n",
              "      <td>...</td>\n",
              "      <td>0.165184</td>\n",
              "      <td>0.526260</td>\n",
              "      <td>1.350363</td>\n",
              "      <td>-0.508886</td>\n",
              "      <td>-0.633738</td>\n",
              "      <td>0.203807</td>\n",
              "      <td>-0.785905</td>\n",
              "      <td>-0.245729</td>\n",
              "      <td>-0.003731</td>\n",
              "      <td>0</td>\n",
              "    </tr>\n",
              "  </tbody>\n",
              "</table>\n",
              "<p>5 rows × 129 columns</p>\n",
              "</div>\n",
              "      <button class=\"colab-df-convert\" onclick=\"convertToInteractive('df-7e438dc5-7156-4225-9b0f-530d2b2297c1')\"\n",
              "              title=\"Convert this dataframe to an interactive table.\"\n",
              "              style=\"display:none;\">\n",
              "        \n",
              "  <svg xmlns=\"http://www.w3.org/2000/svg\" height=\"24px\"viewBox=\"0 0 24 24\"\n",
              "       width=\"24px\">\n",
              "    <path d=\"M0 0h24v24H0V0z\" fill=\"none\"/>\n",
              "    <path d=\"M18.56 5.44l.94 2.06.94-2.06 2.06-.94-2.06-.94-.94-2.06-.94 2.06-2.06.94zm-11 1L8.5 8.5l.94-2.06 2.06-.94-2.06-.94L8.5 2.5l-.94 2.06-2.06.94zm10 10l.94 2.06.94-2.06 2.06-.94-2.06-.94-.94-2.06-.94 2.06-2.06.94z\"/><path d=\"M17.41 7.96l-1.37-1.37c-.4-.4-.92-.59-1.43-.59-.52 0-1.04.2-1.43.59L10.3 9.45l-7.72 7.72c-.78.78-.78 2.05 0 2.83L4 21.41c.39.39.9.59 1.41.59.51 0 1.02-.2 1.41-.59l7.78-7.78 2.81-2.81c.8-.78.8-2.07 0-2.86zM5.41 20L4 18.59l7.72-7.72 1.47 1.35L5.41 20z\"/>\n",
              "  </svg>\n",
              "      </button>\n",
              "      \n",
              "  <style>\n",
              "    .colab-df-container {\n",
              "      display:flex;\n",
              "      flex-wrap:wrap;\n",
              "      gap: 12px;\n",
              "    }\n",
              "\n",
              "    .colab-df-convert {\n",
              "      background-color: #E8F0FE;\n",
              "      border: none;\n",
              "      border-radius: 50%;\n",
              "      cursor: pointer;\n",
              "      display: none;\n",
              "      fill: #1967D2;\n",
              "      height: 32px;\n",
              "      padding: 0 0 0 0;\n",
              "      width: 32px;\n",
              "    }\n",
              "\n",
              "    .colab-df-convert:hover {\n",
              "      background-color: #E2EBFA;\n",
              "      box-shadow: 0px 1px 2px rgba(60, 64, 67, 0.3), 0px 1px 3px 1px rgba(60, 64, 67, 0.15);\n",
              "      fill: #174EA6;\n",
              "    }\n",
              "\n",
              "    [theme=dark] .colab-df-convert {\n",
              "      background-color: #3B4455;\n",
              "      fill: #D2E3FC;\n",
              "    }\n",
              "\n",
              "    [theme=dark] .colab-df-convert:hover {\n",
              "      background-color: #434B5C;\n",
              "      box-shadow: 0px 1px 3px 1px rgba(0, 0, 0, 0.15);\n",
              "      filter: drop-shadow(0px 1px 2px rgba(0, 0, 0, 0.3));\n",
              "      fill: #FFFFFF;\n",
              "    }\n",
              "  </style>\n",
              "\n",
              "      <script>\n",
              "        const buttonEl =\n",
              "          document.querySelector('#df-7e438dc5-7156-4225-9b0f-530d2b2297c1 button.colab-df-convert');\n",
              "        buttonEl.style.display =\n",
              "          google.colab.kernel.accessAllowed ? 'block' : 'none';\n",
              "\n",
              "        async function convertToInteractive(key) {\n",
              "          const element = document.querySelector('#df-7e438dc5-7156-4225-9b0f-530d2b2297c1');\n",
              "          const dataTable =\n",
              "            await google.colab.kernel.invokeFunction('convertToInteractive',\n",
              "                                                     [key], {});\n",
              "          if (!dataTable) return;\n",
              "\n",
              "          const docLinkHtml = 'Like what you see? Visit the ' +\n",
              "            '<a target=\"_blank\" href=https://colab.research.google.com/notebooks/data_table.ipynb>data table notebook</a>'\n",
              "            + ' to learn more about interactive tables.';\n",
              "          element.innerHTML = '';\n",
              "          dataTable['output_type'] = 'display_data';\n",
              "          await google.colab.output.renderOutput(dataTable, element);\n",
              "          const docLink = document.createElement('div');\n",
              "          docLink.innerHTML = docLinkHtml;\n",
              "          element.appendChild(docLink);\n",
              "        }\n",
              "      </script>\n",
              "    </div>\n",
              "  </div>\n",
              "  "
            ],
            "text/plain": [
              "          0         1         2         3         4         5         6  \\\n",
              "0  0.705229 -0.467777 -0.849564  1.631884  0.781920 -1.074667  0.605650   \n",
              "1 -0.332985 -0.330223 -0.866652  1.594688  2.301664  0.116573 -1.522974   \n",
              "2  0.290644  0.950106 -0.213829  1.623187  1.202535 -0.308924  1.210230   \n",
              "3 -0.468002 -0.292499 -0.836633  0.629525  1.532991 -0.744017 -0.868493   \n",
              "4 -0.031010 -0.418403 -0.310325  1.643237  1.757546 -0.835343  0.569866   \n",
              "\n",
              "          7         8         9  ...       119       120       121       122  \\\n",
              "0 -0.553223  0.463141  1.357267  ...  0.089603  0.087537  1.491058  0.300430   \n",
              "1  1.932201  1.022533  1.514163  ... -0.373162 -0.048413  0.704640 -0.371660   \n",
              "2 -0.343003  0.627491  1.614541  ...  0.037902  0.677695  0.871504 -0.598366   \n",
              "3  0.063227  1.062264  1.181333  ... -0.227405 -0.242751  1.348131  0.502554   \n",
              "4  0.098678  0.711295  1.898196  ...  0.165184  0.526260  1.350363 -0.508886   \n",
              "\n",
              "        123       124       125       126       127  category  \n",
              "0 -1.436116 -0.676035  0.206691 -1.134410  0.895477         0  \n",
              "1 -2.395536  0.188537 -1.178383  0.112215  0.987411         0  \n",
              "2 -2.574017 -0.332315 -0.447244 -0.514461 -0.148675         0  \n",
              "3 -2.490005  0.318960 -0.464727 -0.271058  0.054087         0  \n",
              "4 -0.633738  0.203807 -0.785905 -0.245729 -0.003731         0  \n",
              "\n",
              "[5 rows x 129 columns]"
            ]
          },
          "metadata": {},
          "execution_count": 43
        }
      ]
    },
    {
      "cell_type": "code",
      "source": [
        "X = df.iloc[0:,0:128].values\n",
        "Y = df['category'].values\n",
        "len(X)"
      ],
      "metadata": {
        "colab": {
          "base_uri": "https://localhost:8080/"
        },
        "id": "Afxbh0kXOydE",
        "outputId": "b4bea7e2-c784-4ea7-f8a0-22c30b423732"
      },
      "execution_count": 44,
      "outputs": [
        {
          "output_type": "execute_result",
          "data": {
            "text/plain": [
              "60"
            ]
          },
          "metadata": {},
          "execution_count": 44
        }
      ]
    },
    {
      "cell_type": "code",
      "source": [
        "X_train,X_test,Y_train,Y_test = train_test_split(X ,Y ,shuffle=True)"
      ],
      "metadata": {
        "id": "mFsNvdUIRjIf"
      },
      "execution_count": 45,
      "outputs": []
    },
    {
      "cell_type": "code",
      "source": [
        "config = wandb.config\n",
        "config.learning_rate = 0.1"
      ],
      "metadata": {
        "id": "eN6Tg06ROIp2"
      },
      "execution_count": 46,
      "outputs": []
    },
    {
      "cell_type": "markdown",
      "source": [
        "**Model**"
      ],
      "metadata": {
        "id": "oZBuCyBgYEOb"
      }
    },
    {
      "cell_type": "code",
      "source": [
        "model = tf.keras.models.Sequential([\n",
        "    Dense(127 ,activation=\"sigmoid\"),\n",
        "    Dense(128, activation=\"relu\"),\n",
        "    Dense(256, activation=\"relu\"),\n",
        "    Dense(3, activation=\"softmax\") \n",
        "])"
      ],
      "metadata": {
        "id": "_voH0OCpYF1f"
      },
      "execution_count": 47,
      "outputs": []
    },
    {
      "cell_type": "code",
      "source": [
        "model.compile(optimizer=tf.keras.optimizers.SGD(config.learning_rate),\n",
        "              loss = tf.keras.losses.sparse_categorical_crossentropy,\n",
        "              metrics = ['accuracy'])"
      ],
      "metadata": {
        "id": "dWHqdCrLYNN4"
      },
      "execution_count": 48,
      "outputs": []
    },
    {
      "cell_type": "code",
      "source": [
        "model.fit(X_train, Y_train, epochs=150, validation_data=(X_test, Y_test),callbacks=[WandbCallback()])"
      ],
      "metadata": {
        "colab": {
          "base_uri": "https://localhost:8080/"
        },
        "id": "rlyXgz0rYQek",
        "outputId": "33be09e0-5d53-4fcb-fdf2-82947cacc2b7"
      },
      "execution_count": 49,
      "outputs": [
        {
          "output_type": "stream",
          "name": "stdout",
          "text": [
            "Epoch 1/150\n",
            "2/2 [==============================] - 1s 220ms/step - loss: 1.1396 - accuracy: 0.2667 - val_loss: 0.9495 - val_accuracy: 0.7333 - _timestamp: 1646515757.0000 - _runtime: 72.0000\n",
            "Epoch 2/150\n",
            "2/2 [==============================] - 0s 69ms/step - loss: 0.9455 - accuracy: 0.7111 - val_loss: 0.9003 - val_accuracy: 0.6667 - _timestamp: 1646515757.0000 - _runtime: 72.0000\n",
            "Epoch 3/150\n",
            "2/2 [==============================] - 0s 65ms/step - loss: 0.8915 - accuracy: 0.6000 - val_loss: 0.6930 - val_accuracy: 0.6000 - _timestamp: 1646515757.0000 - _runtime: 72.0000\n",
            "Epoch 4/150\n",
            "2/2 [==============================] - 0s 41ms/step - loss: 0.8563 - accuracy: 0.4667 - val_loss: 0.7674 - val_accuracy: 0.6000 - _timestamp: 1646515757.0000 - _runtime: 72.0000\n",
            "Epoch 5/150\n",
            "2/2 [==============================] - 0s 91ms/step - loss: 0.7236 - accuracy: 0.7333 - val_loss: 0.5164 - val_accuracy: 0.9333 - _timestamp: 1646515757.0000 - _runtime: 72.0000\n",
            "Epoch 6/150\n",
            "2/2 [==============================] - 0s 53ms/step - loss: 0.4177 - accuracy: 0.9556 - val_loss: 0.6150 - val_accuracy: 0.6000 - _timestamp: 1646515757.0000 - _runtime: 72.0000\n",
            "Epoch 7/150\n",
            "2/2 [==============================] - 0s 47ms/step - loss: 0.5606 - accuracy: 0.7111 - val_loss: 0.3783 - val_accuracy: 0.8667 - _timestamp: 1646515757.0000 - _runtime: 72.0000\n",
            "Epoch 8/150\n",
            "2/2 [==============================] - 0s 46ms/step - loss: 0.2719 - accuracy: 0.9556 - val_loss: 0.2310 - val_accuracy: 1.0000 - _timestamp: 1646515757.0000 - _runtime: 72.0000\n",
            "Epoch 9/150\n",
            "2/2 [==============================] - 0s 53ms/step - loss: 0.1923 - accuracy: 0.9778 - val_loss: 0.2121 - val_accuracy: 1.0000 - _timestamp: 1646515757.0000 - _runtime: 72.0000\n",
            "Epoch 10/150\n",
            "2/2 [==============================] - 0s 37ms/step - loss: 0.1607 - accuracy: 0.9778 - val_loss: 0.2304 - val_accuracy: 1.0000 - _timestamp: 1646515758.0000 - _runtime: 73.0000\n",
            "Epoch 11/150\n",
            "2/2 [==============================] - 0s 51ms/step - loss: 0.1430 - accuracy: 0.9778 - val_loss: 0.1951 - val_accuracy: 1.0000 - _timestamp: 1646515758.0000 - _runtime: 73.0000\n",
            "Epoch 12/150\n",
            "2/2 [==============================] - 0s 30ms/step - loss: 0.1264 - accuracy: 0.9778 - val_loss: 0.1964 - val_accuracy: 1.0000 - _timestamp: 1646515758.0000 - _runtime: 73.0000\n",
            "Epoch 13/150\n",
            "2/2 [==============================] - 0s 47ms/step - loss: 0.1071 - accuracy: 1.0000 - val_loss: 0.1560 - val_accuracy: 0.9333 - _timestamp: 1646515758.0000 - _runtime: 73.0000\n",
            "Epoch 14/150\n",
            "2/2 [==============================] - 0s 50ms/step - loss: 0.0942 - accuracy: 0.9778 - val_loss: 0.1305 - val_accuracy: 1.0000 - _timestamp: 1646515758.0000 - _runtime: 73.0000\n",
            "Epoch 15/150\n",
            "2/2 [==============================] - 0s 50ms/step - loss: 0.0803 - accuracy: 0.9778 - val_loss: 0.1067 - val_accuracy: 1.0000 - _timestamp: 1646515758.0000 - _runtime: 73.0000\n",
            "Epoch 16/150\n",
            "2/2 [==============================] - 0s 28ms/step - loss: 0.0715 - accuracy: 0.9778 - val_loss: 0.1408 - val_accuracy: 1.0000 - _timestamp: 1646515758.0000 - _runtime: 73.0000\n",
            "Epoch 17/150\n",
            "2/2 [==============================] - 0s 31ms/step - loss: 0.0660 - accuracy: 1.0000 - val_loss: 0.1437 - val_accuracy: 1.0000 - _timestamp: 1646515758.0000 - _runtime: 73.0000\n",
            "Epoch 18/150\n",
            "2/2 [==============================] - 0s 30ms/step - loss: 0.0634 - accuracy: 1.0000 - val_loss: 0.1415 - val_accuracy: 1.0000 - _timestamp: 1646515758.0000 - _runtime: 73.0000\n",
            "Epoch 19/150\n",
            "2/2 [==============================] - 0s 31ms/step - loss: 0.0579 - accuracy: 1.0000 - val_loss: 0.1323 - val_accuracy: 0.9333 - _timestamp: 1646515758.0000 - _runtime: 73.0000\n",
            "Epoch 20/150\n",
            "2/2 [==============================] - 0s 46ms/step - loss: 0.0551 - accuracy: 0.9778 - val_loss: 0.1041 - val_accuracy: 1.0000 - _timestamp: 1646515758.0000 - _runtime: 73.0000\n",
            "Epoch 21/150\n",
            "2/2 [==============================] - 0s 59ms/step - loss: 0.0435 - accuracy: 1.0000 - val_loss: 0.0906 - val_accuracy: 1.0000 - _timestamp: 1646515758.0000 - _runtime: 73.0000\n",
            "Epoch 22/150\n",
            "2/2 [==============================] - 0s 43ms/step - loss: 0.0410 - accuracy: 1.0000 - val_loss: 0.1023 - val_accuracy: 1.0000 - _timestamp: 1646515758.0000 - _runtime: 73.0000\n",
            "Epoch 23/150\n",
            "2/2 [==============================] - 0s 28ms/step - loss: 0.0397 - accuracy: 1.0000 - val_loss: 0.0943 - val_accuracy: 1.0000 - _timestamp: 1646515758.0000 - _runtime: 73.0000\n",
            "Epoch 24/150\n",
            "2/2 [==============================] - 0s 51ms/step - loss: 0.0369 - accuracy: 1.0000 - val_loss: 0.0873 - val_accuracy: 1.0000 - _timestamp: 1646515758.0000 - _runtime: 73.0000\n",
            "Epoch 25/150\n",
            "2/2 [==============================] - 0s 50ms/step - loss: 0.0337 - accuracy: 1.0000 - val_loss: 0.0857 - val_accuracy: 1.0000 - _timestamp: 1646515758.0000 - _runtime: 73.0000\n",
            "Epoch 26/150\n",
            "2/2 [==============================] - 0s 56ms/step - loss: 0.0307 - accuracy: 1.0000 - val_loss: 0.0830 - val_accuracy: 1.0000 - _timestamp: 1646515758.0000 - _runtime: 73.0000\n",
            "Epoch 27/150\n",
            "2/2 [==============================] - 0s 31ms/step - loss: 0.0311 - accuracy: 1.0000 - val_loss: 0.0950 - val_accuracy: 1.0000 - _timestamp: 1646515759.0000 - _runtime: 74.0000\n",
            "Epoch 28/150\n",
            "2/2 [==============================] - 0s 30ms/step - loss: 0.0301 - accuracy: 1.0000 - val_loss: 0.0913 - val_accuracy: 1.0000 - _timestamp: 1646515759.0000 - _runtime: 74.0000\n",
            "Epoch 29/150\n",
            "2/2 [==============================] - 0s 37ms/step - loss: 0.0273 - accuracy: 1.0000 - val_loss: 0.0851 - val_accuracy: 1.0000 - _timestamp: 1646515759.0000 - _runtime: 74.0000\n",
            "Epoch 30/150\n",
            "2/2 [==============================] - 0s 69ms/step - loss: 0.0245 - accuracy: 1.0000 - val_loss: 0.0771 - val_accuracy: 1.0000 - _timestamp: 1646515759.0000 - _runtime: 74.0000\n",
            "Epoch 31/150\n",
            "2/2 [==============================] - 0s 30ms/step - loss: 0.0229 - accuracy: 1.0000 - val_loss: 0.0908 - val_accuracy: 1.0000 - _timestamp: 1646515759.0000 - _runtime: 74.0000\n",
            "Epoch 32/150\n",
            "2/2 [==============================] - 0s 47ms/step - loss: 0.0222 - accuracy: 1.0000 - val_loss: 0.0928 - val_accuracy: 1.0000 - _timestamp: 1646515759.0000 - _runtime: 74.0000\n",
            "Epoch 33/150\n",
            "2/2 [==============================] - 0s 31ms/step - loss: 0.0212 - accuracy: 1.0000 - val_loss: 0.0804 - val_accuracy: 1.0000 - _timestamp: 1646515759.0000 - _runtime: 74.0000\n",
            "Epoch 34/150\n",
            "2/2 [==============================] - 0s 54ms/step - loss: 0.0191 - accuracy: 1.0000 - val_loss: 0.0753 - val_accuracy: 1.0000 - _timestamp: 1646515759.0000 - _runtime: 74.0000\n",
            "Epoch 35/150\n",
            "2/2 [==============================] - 0s 30ms/step - loss: 0.0182 - accuracy: 1.0000 - val_loss: 0.0767 - val_accuracy: 1.0000 - _timestamp: 1646515759.0000 - _runtime: 74.0000\n",
            "Epoch 36/150\n",
            "2/2 [==============================] - 0s 29ms/step - loss: 0.0176 - accuracy: 1.0000 - val_loss: 0.0761 - val_accuracy: 1.0000 - _timestamp: 1646515759.0000 - _runtime: 74.0000\n",
            "Epoch 37/150\n",
            "2/2 [==============================] - 0s 56ms/step - loss: 0.0167 - accuracy: 1.0000 - val_loss: 0.0744 - val_accuracy: 1.0000 - _timestamp: 1646515759.0000 - _runtime: 74.0000\n",
            "Epoch 38/150\n",
            "2/2 [==============================] - 0s 47ms/step - loss: 0.0160 - accuracy: 1.0000 - val_loss: 0.0698 - val_accuracy: 1.0000 - _timestamp: 1646515759.0000 - _runtime: 74.0000\n",
            "Epoch 39/150\n",
            "2/2 [==============================] - 0s 31ms/step - loss: 0.0163 - accuracy: 1.0000 - val_loss: 0.0771 - val_accuracy: 1.0000 - _timestamp: 1646515759.0000 - _runtime: 74.0000\n",
            "Epoch 40/150\n",
            "2/2 [==============================] - 0s 36ms/step - loss: 0.0157 - accuracy: 1.0000 - val_loss: 0.0748 - val_accuracy: 1.0000 - _timestamp: 1646515759.0000 - _runtime: 74.0000\n",
            "Epoch 41/150\n",
            "2/2 [==============================] - 0s 30ms/step - loss: 0.0143 - accuracy: 1.0000 - val_loss: 0.0722 - val_accuracy: 1.0000 - _timestamp: 1646515759.0000 - _runtime: 74.0000\n",
            "Epoch 42/150\n",
            "2/2 [==============================] - 0s 28ms/step - loss: 0.0142 - accuracy: 1.0000 - val_loss: 0.0766 - val_accuracy: 1.0000 - _timestamp: 1646515759.0000 - _runtime: 74.0000\n",
            "Epoch 43/150\n",
            "2/2 [==============================] - 0s 29ms/step - loss: 0.0131 - accuracy: 1.0000 - val_loss: 0.0734 - val_accuracy: 1.0000 - _timestamp: 1646515759.0000 - _runtime: 74.0000\n",
            "Epoch 44/150\n",
            "2/2 [==============================] - 0s 32ms/step - loss: 0.0122 - accuracy: 1.0000 - val_loss: 0.0716 - val_accuracy: 1.0000 - _timestamp: 1646515759.0000 - _runtime: 74.0000\n",
            "Epoch 45/150\n",
            "2/2 [==============================] - 0s 46ms/step - loss: 0.0119 - accuracy: 1.0000 - val_loss: 0.0685 - val_accuracy: 1.0000 - _timestamp: 1646515760.0000 - _runtime: 75.0000\n",
            "Epoch 46/150\n",
            "2/2 [==============================] - 0s 56ms/step - loss: 0.0114 - accuracy: 1.0000 - val_loss: 0.0677 - val_accuracy: 1.0000 - _timestamp: 1646515760.0000 - _runtime: 75.0000\n",
            "Epoch 47/150\n",
            "2/2 [==============================] - 0s 41ms/step - loss: 0.0113 - accuracy: 1.0000 - val_loss: 0.0711 - val_accuracy: 1.0000 - _timestamp: 1646515760.0000 - _runtime: 75.0000\n",
            "Epoch 48/150\n",
            "2/2 [==============================] - 0s 31ms/step - loss: 0.0111 - accuracy: 1.0000 - val_loss: 0.0707 - val_accuracy: 1.0000 - _timestamp: 1646515760.0000 - _runtime: 75.0000\n",
            "Epoch 49/150\n",
            "2/2 [==============================] - 0s 32ms/step - loss: 0.0108 - accuracy: 1.0000 - val_loss: 0.0710 - val_accuracy: 1.0000 - _timestamp: 1646515760.0000 - _runtime: 75.0000\n",
            "Epoch 50/150\n",
            "2/2 [==============================] - 0s 60ms/step - loss: 0.0102 - accuracy: 1.0000 - val_loss: 0.0676 - val_accuracy: 1.0000 - _timestamp: 1646515760.0000 - _runtime: 75.0000\n",
            "Epoch 51/150\n",
            "2/2 [==============================] - 0s 30ms/step - loss: 0.0099 - accuracy: 1.0000 - val_loss: 0.0694 - val_accuracy: 1.0000 - _timestamp: 1646515760.0000 - _runtime: 75.0000\n",
            "Epoch 52/150\n",
            "2/2 [==============================] - 0s 48ms/step - loss: 0.0100 - accuracy: 1.0000 - val_loss: 0.0674 - val_accuracy: 1.0000 - _timestamp: 1646515760.0000 - _runtime: 75.0000\n",
            "Epoch 53/150\n",
            "2/2 [==============================] - 0s 51ms/step - loss: 0.0091 - accuracy: 1.0000 - val_loss: 0.0674 - val_accuracy: 1.0000 - _timestamp: 1646515760.0000 - _runtime: 75.0000\n",
            "Epoch 54/150\n",
            "2/2 [==============================] - 0s 30ms/step - loss: 0.0088 - accuracy: 1.0000 - val_loss: 0.0678 - val_accuracy: 1.0000 - _timestamp: 1646515760.0000 - _runtime: 75.0000\n",
            "Epoch 55/150\n",
            "2/2 [==============================] - 0s 35ms/step - loss: 0.0084 - accuracy: 1.0000 - val_loss: 0.0675 - val_accuracy: 1.0000 - _timestamp: 1646515760.0000 - _runtime: 75.0000\n",
            "Epoch 56/150\n",
            "2/2 [==============================] - 0s 46ms/step - loss: 0.0081 - accuracy: 1.0000 - val_loss: 0.0649 - val_accuracy: 1.0000 - _timestamp: 1646515760.0000 - _runtime: 75.0000\n",
            "Epoch 57/150\n",
            "2/2 [==============================] - 0s 33ms/step - loss: 0.0081 - accuracy: 1.0000 - val_loss: 0.0660 - val_accuracy: 1.0000 - _timestamp: 1646515760.0000 - _runtime: 75.0000\n",
            "Epoch 58/150\n",
            "2/2 [==============================] - 0s 35ms/step - loss: 0.0081 - accuracy: 1.0000 - val_loss: 0.0666 - val_accuracy: 1.0000 - _timestamp: 1646515760.0000 - _runtime: 75.0000\n",
            "Epoch 59/150\n",
            "2/2 [==============================] - 0s 57ms/step - loss: 0.0077 - accuracy: 1.0000 - val_loss: 0.0651 - val_accuracy: 1.0000 - _timestamp: 1646515760.0000 - _runtime: 75.0000\n",
            "Epoch 60/150\n",
            "2/2 [==============================] - 0s 45ms/step - loss: 0.0072 - accuracy: 1.0000 - val_loss: 0.0639 - val_accuracy: 1.0000 - _timestamp: 1646515760.0000 - _runtime: 75.0000\n",
            "Epoch 61/150\n",
            "2/2 [==============================] - 0s 28ms/step - loss: 0.0070 - accuracy: 1.0000 - val_loss: 0.0640 - val_accuracy: 1.0000 - _timestamp: 1646515760.0000 - _runtime: 75.0000\n",
            "Epoch 62/150\n",
            "2/2 [==============================] - 0s 30ms/step - loss: 0.0069 - accuracy: 1.0000 - val_loss: 0.0646 - val_accuracy: 1.0000 - _timestamp: 1646515760.0000 - _runtime: 75.0000\n",
            "Epoch 63/150\n",
            "2/2 [==============================] - 0s 48ms/step - loss: 0.0068 - accuracy: 1.0000 - val_loss: 0.0628 - val_accuracy: 1.0000 - _timestamp: 1646515761.0000 - _runtime: 76.0000\n",
            "Epoch 64/150\n",
            "2/2 [==============================] - 0s 32ms/step - loss: 0.0065 - accuracy: 1.0000 - val_loss: 0.0644 - val_accuracy: 1.0000 - _timestamp: 1646515761.0000 - _runtime: 76.0000\n",
            "Epoch 65/150\n",
            "2/2 [==============================] - 0s 35ms/step - loss: 0.0063 - accuracy: 1.0000 - val_loss: 0.0629 - val_accuracy: 1.0000 - _timestamp: 1646515761.0000 - _runtime: 76.0000\n",
            "Epoch 66/150\n",
            "2/2 [==============================] - 0s 55ms/step - loss: 0.0063 - accuracy: 1.0000 - val_loss: 0.0645 - val_accuracy: 1.0000 - _timestamp: 1646515761.0000 - _runtime: 76.0000\n",
            "Epoch 67/150\n",
            "2/2 [==============================] - 0s 32ms/step - loss: 0.0062 - accuracy: 1.0000 - val_loss: 0.0653 - val_accuracy: 1.0000 - _timestamp: 1646515761.0000 - _runtime: 76.0000\n",
            "Epoch 68/150\n",
            "2/2 [==============================] - 0s 31ms/step - loss: 0.0060 - accuracy: 1.0000 - val_loss: 0.0662 - val_accuracy: 1.0000 - _timestamp: 1646515761.0000 - _runtime: 76.0000\n",
            "Epoch 69/150\n",
            "2/2 [==============================] - 0s 52ms/step - loss: 0.0058 - accuracy: 1.0000 - val_loss: 0.0655 - val_accuracy: 1.0000 - _timestamp: 1646515761.0000 - _runtime: 76.0000\n",
            "Epoch 70/150\n",
            "2/2 [==============================] - 0s 36ms/step - loss: 0.0056 - accuracy: 1.0000 - val_loss: 0.0637 - val_accuracy: 1.0000 - _timestamp: 1646515761.0000 - _runtime: 76.0000\n",
            "Epoch 71/150\n",
            "2/2 [==============================] - 0s 45ms/step - loss: 0.0055 - accuracy: 1.0000 - val_loss: 0.0627 - val_accuracy: 1.0000 - _timestamp: 1646515761.0000 - _runtime: 76.0000\n",
            "Epoch 72/150\n",
            "2/2 [==============================] - 0s 30ms/step - loss: 0.0054 - accuracy: 1.0000 - val_loss: 0.0632 - val_accuracy: 1.0000 - _timestamp: 1646515761.0000 - _runtime: 76.0000\n",
            "Epoch 73/150\n",
            "2/2 [==============================] - 0s 30ms/step - loss: 0.0053 - accuracy: 1.0000 - val_loss: 0.0637 - val_accuracy: 1.0000 - _timestamp: 1646515761.0000 - _runtime: 76.0000\n",
            "Epoch 74/150\n",
            "2/2 [==============================] - 0s 50ms/step - loss: 0.0052 - accuracy: 1.0000 - val_loss: 0.0606 - val_accuracy: 1.0000 - _timestamp: 1646515761.0000 - _runtime: 76.0000\n",
            "Epoch 75/150\n",
            "2/2 [==============================] - 0s 35ms/step - loss: 0.0051 - accuracy: 1.0000 - val_loss: 0.0622 - val_accuracy: 1.0000 - _timestamp: 1646515761.0000 - _runtime: 76.0000\n",
            "Epoch 76/150\n",
            "2/2 [==============================] - 0s 49ms/step - loss: 0.0049 - accuracy: 1.0000 - val_loss: 0.0616 - val_accuracy: 1.0000 - _timestamp: 1646515761.0000 - _runtime: 76.0000\n",
            "Epoch 77/150\n",
            "2/2 [==============================] - 0s 37ms/step - loss: 0.0049 - accuracy: 1.0000 - val_loss: 0.0620 - val_accuracy: 1.0000 - _timestamp: 1646515761.0000 - _runtime: 76.0000\n",
            "Epoch 78/150\n",
            "2/2 [==============================] - 0s 30ms/step - loss: 0.0048 - accuracy: 1.0000 - val_loss: 0.0638 - val_accuracy: 1.0000 - _timestamp: 1646515761.0000 - _runtime: 76.0000\n",
            "Epoch 79/150\n",
            "2/2 [==============================] - 0s 48ms/step - loss: 0.0047 - accuracy: 1.0000 - val_loss: 0.0625 - val_accuracy: 1.0000 - _timestamp: 1646515761.0000 - _runtime: 76.0000\n",
            "Epoch 80/150\n",
            "2/2 [==============================] - 0s 36ms/step - loss: 0.0046 - accuracy: 1.0000 - val_loss: 0.0629 - val_accuracy: 1.0000 - _timestamp: 1646515761.0000 - _runtime: 76.0000\n",
            "Epoch 81/150\n",
            "2/2 [==============================] - 0s 31ms/step - loss: 0.0045 - accuracy: 1.0000 - val_loss: 0.0627 - val_accuracy: 1.0000 - _timestamp: 1646515762.0000 - _runtime: 77.0000\n",
            "Epoch 82/150\n",
            "2/2 [==============================] - 0s 52ms/step - loss: 0.0043 - accuracy: 1.0000 - val_loss: 0.0605 - val_accuracy: 1.0000 - _timestamp: 1646515762.0000 - _runtime: 77.0000\n",
            "Epoch 83/150\n",
            "2/2 [==============================] - 0s 34ms/step - loss: 0.0043 - accuracy: 1.0000 - val_loss: 0.0620 - val_accuracy: 1.0000 - _timestamp: 1646515762.0000 - _runtime: 77.0000\n",
            "Epoch 84/150\n",
            "2/2 [==============================] - 0s 31ms/step - loss: 0.0042 - accuracy: 1.0000 - val_loss: 0.0611 - val_accuracy: 1.0000 - _timestamp: 1646515762.0000 - _runtime: 77.0000\n",
            "Epoch 85/150\n",
            "2/2 [==============================] - 0s 48ms/step - loss: 0.0041 - accuracy: 1.0000 - val_loss: 0.0604 - val_accuracy: 1.0000 - _timestamp: 1646515762.0000 - _runtime: 77.0000\n",
            "Epoch 86/150\n",
            "2/2 [==============================] - 0s 51ms/step - loss: 0.0041 - accuracy: 1.0000 - val_loss: 0.0595 - val_accuracy: 1.0000 - _timestamp: 1646515762.0000 - _runtime: 77.0000\n",
            "Epoch 87/150\n",
            "2/2 [==============================] - 0s 32ms/step - loss: 0.0041 - accuracy: 1.0000 - val_loss: 0.0615 - val_accuracy: 1.0000 - _timestamp: 1646515762.0000 - _runtime: 77.0000\n",
            "Epoch 88/150\n",
            "2/2 [==============================] - 0s 44ms/step - loss: 0.0038 - accuracy: 1.0000 - val_loss: 0.0620 - val_accuracy: 1.0000 - _timestamp: 1646515762.0000 - _runtime: 77.0000\n",
            "Epoch 89/150\n",
            "2/2 [==============================] - 0s 50ms/step - loss: 0.0038 - accuracy: 1.0000 - val_loss: 0.0586 - val_accuracy: 1.0000 - _timestamp: 1646515762.0000 - _runtime: 77.0000\n",
            "Epoch 90/150\n",
            "2/2 [==============================] - 0s 31ms/step - loss: 0.0038 - accuracy: 1.0000 - val_loss: 0.0588 - val_accuracy: 1.0000 - _timestamp: 1646515762.0000 - _runtime: 77.0000\n",
            "Epoch 91/150\n",
            "2/2 [==============================] - 0s 31ms/step - loss: 0.0036 - accuracy: 1.0000 - val_loss: 0.0587 - val_accuracy: 1.0000 - _timestamp: 1646515762.0000 - _runtime: 77.0000\n",
            "Epoch 92/150\n",
            "2/2 [==============================] - 0s 34ms/step - loss: 0.0036 - accuracy: 1.0000 - val_loss: 0.0596 - val_accuracy: 1.0000 - _timestamp: 1646515762.0000 - _runtime: 77.0000\n",
            "Epoch 93/150\n",
            "2/2 [==============================] - 0s 53ms/step - loss: 0.0035 - accuracy: 1.0000 - val_loss: 0.0568 - val_accuracy: 1.0000 - _timestamp: 1646515762.0000 - _runtime: 77.0000\n",
            "Epoch 94/150\n",
            "2/2 [==============================] - 0s 33ms/step - loss: 0.0035 - accuracy: 1.0000 - val_loss: 0.0571 - val_accuracy: 1.0000 - _timestamp: 1646515762.0000 - _runtime: 77.0000\n",
            "Epoch 95/150\n",
            "2/2 [==============================] - 0s 33ms/step - loss: 0.0034 - accuracy: 1.0000 - val_loss: 0.0575 - val_accuracy: 1.0000 - _timestamp: 1646515762.0000 - _runtime: 77.0000\n",
            "Epoch 96/150\n",
            "2/2 [==============================] - 0s 46ms/step - loss: 0.0034 - accuracy: 1.0000 - val_loss: 0.0571 - val_accuracy: 1.0000 - _timestamp: 1646515762.0000 - _runtime: 77.0000\n",
            "Epoch 97/150\n",
            "2/2 [==============================] - 0s 68ms/step - loss: 0.0033 - accuracy: 1.0000 - val_loss: 0.0549 - val_accuracy: 1.0000 - _timestamp: 1646515762.0000 - _runtime: 77.0000\n",
            "Epoch 98/150\n",
            "2/2 [==============================] - 0s 52ms/step - loss: 0.0033 - accuracy: 1.0000 - val_loss: 0.0542 - val_accuracy: 1.0000 - _timestamp: 1646515763.0000 - _runtime: 78.0000\n",
            "Epoch 99/150\n",
            "2/2 [==============================] - 0s 31ms/step - loss: 0.0032 - accuracy: 1.0000 - val_loss: 0.0545 - val_accuracy: 1.0000 - _timestamp: 1646515763.0000 - _runtime: 78.0000\n",
            "Epoch 100/150\n",
            "2/2 [==============================] - 0s 40ms/step - loss: 0.0032 - accuracy: 1.0000 - val_loss: 0.0560 - val_accuracy: 1.0000 - _timestamp: 1646515763.0000 - _runtime: 78.0000\n",
            "Epoch 101/150\n",
            "2/2 [==============================] - 0s 33ms/step - loss: 0.0031 - accuracy: 1.0000 - val_loss: 0.0558 - val_accuracy: 1.0000 - _timestamp: 1646515763.0000 - _runtime: 78.0000\n",
            "Epoch 102/150\n",
            "2/2 [==============================] - 0s 54ms/step - loss: 0.0030 - accuracy: 1.0000 - val_loss: 0.0550 - val_accuracy: 1.0000 - _timestamp: 1646515763.0000 - _runtime: 78.0000\n",
            "Epoch 103/150\n",
            "2/2 [==============================] - 0s 36ms/step - loss: 0.0030 - accuracy: 1.0000 - val_loss: 0.0558 - val_accuracy: 1.0000 - _timestamp: 1646515763.0000 - _runtime: 78.0000\n",
            "Epoch 104/150\n",
            "2/2 [==============================] - 0s 33ms/step - loss: 0.0030 - accuracy: 1.0000 - val_loss: 0.0560 - val_accuracy: 1.0000 - _timestamp: 1646515763.0000 - _runtime: 78.0000\n",
            "Epoch 105/150\n",
            "2/2 [==============================] - 0s 32ms/step - loss: 0.0030 - accuracy: 1.0000 - val_loss: 0.0556 - val_accuracy: 1.0000 - _timestamp: 1646515763.0000 - _runtime: 78.0000\n",
            "Epoch 106/150\n",
            "2/2 [==============================] - 0s 45ms/step - loss: 0.0029 - accuracy: 1.0000 - val_loss: 0.0554 - val_accuracy: 1.0000 - _timestamp: 1646515763.0000 - _runtime: 78.0000\n",
            "Epoch 107/150\n",
            "2/2 [==============================] - 0s 37ms/step - loss: 0.0028 - accuracy: 1.0000 - val_loss: 0.0560 - val_accuracy: 1.0000 - _timestamp: 1646515763.0000 - _runtime: 78.0000\n",
            "Epoch 108/150\n",
            "2/2 [==============================] - 0s 34ms/step - loss: 0.0028 - accuracy: 1.0000 - val_loss: 0.0555 - val_accuracy: 1.0000 - _timestamp: 1646515763.0000 - _runtime: 78.0000\n",
            "Epoch 109/150\n",
            "2/2 [==============================] - 0s 37ms/step - loss: 0.0028 - accuracy: 1.0000 - val_loss: 0.0558 - val_accuracy: 1.0000 - _timestamp: 1646515763.0000 - _runtime: 78.0000\n",
            "Epoch 110/150\n",
            "2/2 [==============================] - 0s 36ms/step - loss: 0.0027 - accuracy: 1.0000 - val_loss: 0.0564 - val_accuracy: 1.0000 - _timestamp: 1646515763.0000 - _runtime: 78.0000\n",
            "Epoch 111/150\n",
            "2/2 [==============================] - 0s 33ms/step - loss: 0.0027 - accuracy: 1.0000 - val_loss: 0.0563 - val_accuracy: 1.0000 - _timestamp: 1646515763.0000 - _runtime: 78.0000\n",
            "Epoch 112/150\n",
            "2/2 [==============================] - 0s 32ms/step - loss: 0.0026 - accuracy: 1.0000 - val_loss: 0.0559 - val_accuracy: 1.0000 - _timestamp: 1646515763.0000 - _runtime: 78.0000\n",
            "Epoch 113/150\n",
            "2/2 [==============================] - 0s 31ms/step - loss: 0.0026 - accuracy: 1.0000 - val_loss: 0.0552 - val_accuracy: 1.0000 - _timestamp: 1646515763.0000 - _runtime: 78.0000\n",
            "Epoch 114/150\n",
            "2/2 [==============================] - 0s 58ms/step - loss: 0.0026 - accuracy: 1.0000 - val_loss: 0.0553 - val_accuracy: 1.0000 - _timestamp: 1646515763.0000 - _runtime: 78.0000\n",
            "Epoch 115/150\n",
            "2/2 [==============================] - 0s 29ms/step - loss: 0.0025 - accuracy: 1.0000 - val_loss: 0.0559 - val_accuracy: 1.0000 - _timestamp: 1646515763.0000 - _runtime: 78.0000\n",
            "Epoch 116/150\n",
            "2/2 [==============================] - 0s 39ms/step - loss: 0.0025 - accuracy: 1.0000 - val_loss: 0.0558 - val_accuracy: 1.0000 - _timestamp: 1646515764.0000 - _runtime: 79.0000\n",
            "Epoch 117/150\n",
            "2/2 [==============================] - 0s 36ms/step - loss: 0.0025 - accuracy: 1.0000 - val_loss: 0.0550 - val_accuracy: 1.0000 - _timestamp: 1646515764.0000 - _runtime: 79.0000\n",
            "Epoch 118/150\n",
            "2/2 [==============================] - 0s 41ms/step - loss: 0.0025 - accuracy: 1.0000 - val_loss: 0.0563 - val_accuracy: 1.0000 - _timestamp: 1646515764.0000 - _runtime: 79.0000\n",
            "Epoch 119/150\n",
            "2/2 [==============================] - 0s 33ms/step - loss: 0.0024 - accuracy: 1.0000 - val_loss: 0.0559 - val_accuracy: 1.0000 - _timestamp: 1646515764.0000 - _runtime: 79.0000\n",
            "Epoch 120/150\n",
            "2/2 [==============================] - 0s 34ms/step - loss: 0.0023 - accuracy: 1.0000 - val_loss: 0.0555 - val_accuracy: 1.0000 - _timestamp: 1646515764.0000 - _runtime: 79.0000\n",
            "Epoch 121/150\n",
            "2/2 [==============================] - 0s 31ms/step - loss: 0.0023 - accuracy: 1.0000 - val_loss: 0.0552 - val_accuracy: 1.0000 - _timestamp: 1646515764.0000 - _runtime: 79.0000\n",
            "Epoch 122/150\n",
            "2/2 [==============================] - 0s 36ms/step - loss: 0.0023 - accuracy: 1.0000 - val_loss: 0.0551 - val_accuracy: 1.0000 - _timestamp: 1646515764.0000 - _runtime: 79.0000\n",
            "Epoch 123/150\n",
            "2/2 [==============================] - 0s 32ms/step - loss: 0.0023 - accuracy: 1.0000 - val_loss: 0.0551 - val_accuracy: 1.0000 - _timestamp: 1646515764.0000 - _runtime: 79.0000\n",
            "Epoch 124/150\n",
            "2/2 [==============================] - 0s 36ms/step - loss: 0.0023 - accuracy: 1.0000 - val_loss: 0.0551 - val_accuracy: 1.0000 - _timestamp: 1646515764.0000 - _runtime: 79.0000\n",
            "Epoch 125/150\n",
            "2/2 [==============================] - 0s 30ms/step - loss: 0.0022 - accuracy: 1.0000 - val_loss: 0.0556 - val_accuracy: 1.0000 - _timestamp: 1646515764.0000 - _runtime: 79.0000\n",
            "Epoch 126/150\n",
            "2/2 [==============================] - 0s 52ms/step - loss: 0.0022 - accuracy: 1.0000 - val_loss: 0.0562 - val_accuracy: 1.0000 - _timestamp: 1646515764.0000 - _runtime: 79.0000\n",
            "Epoch 127/150\n",
            "2/2 [==============================] - 0s 34ms/step - loss: 0.0022 - accuracy: 1.0000 - val_loss: 0.0554 - val_accuracy: 1.0000 - _timestamp: 1646515764.0000 - _runtime: 79.0000\n",
            "Epoch 128/150\n",
            "2/2 [==============================] - 0s 55ms/step - loss: 0.0021 - accuracy: 1.0000 - val_loss: 0.0536 - val_accuracy: 1.0000 - _timestamp: 1646515764.0000 - _runtime: 79.0000\n",
            "Epoch 129/150\n",
            "2/2 [==============================] - 0s 55ms/step - loss: 0.0021 - accuracy: 1.0000 - val_loss: 0.0524 - val_accuracy: 1.0000 - _timestamp: 1646515764.0000 - _runtime: 79.0000\n",
            "Epoch 130/150\n",
            "2/2 [==============================] - 0s 56ms/step - loss: 0.0021 - accuracy: 1.0000 - val_loss: 0.0516 - val_accuracy: 1.0000 - _timestamp: 1646515764.0000 - _runtime: 79.0000\n",
            "Epoch 131/150\n",
            "2/2 [==============================] - 0s 59ms/step - loss: 0.0021 - accuracy: 1.0000 - val_loss: 0.0513 - val_accuracy: 1.0000 - _timestamp: 1646515764.0000 - _runtime: 79.0000\n",
            "Epoch 132/150\n",
            "2/2 [==============================] - 0s 35ms/step - loss: 0.0021 - accuracy: 1.0000 - val_loss: 0.0515 - val_accuracy: 1.0000 - _timestamp: 1646515764.0000 - _runtime: 79.0000\n",
            "Epoch 133/150\n",
            "2/2 [==============================] - 0s 66ms/step - loss: 0.0020 - accuracy: 1.0000 - val_loss: 0.0505 - val_accuracy: 1.0000 - _timestamp: 1646515765.0000 - _runtime: 80.0000\n",
            "Epoch 134/150\n",
            "2/2 [==============================] - 0s 51ms/step - loss: 0.0020 - accuracy: 1.0000 - val_loss: 0.0499 - val_accuracy: 1.0000 - _timestamp: 1646515765.0000 - _runtime: 80.0000\n",
            "Epoch 135/150\n",
            "2/2 [==============================] - 0s 33ms/step - loss: 0.0020 - accuracy: 1.0000 - val_loss: 0.0500 - val_accuracy: 1.0000 - _timestamp: 1646515765.0000 - _runtime: 80.0000\n",
            "Epoch 136/150\n",
            "2/2 [==============================] - 0s 32ms/step - loss: 0.0020 - accuracy: 1.0000 - val_loss: 0.0504 - val_accuracy: 1.0000 - _timestamp: 1646515765.0000 - _runtime: 80.0000\n",
            "Epoch 137/150\n",
            "2/2 [==============================] - 0s 41ms/step - loss: 0.0019 - accuracy: 1.0000 - val_loss: 0.0516 - val_accuracy: 1.0000 - _timestamp: 1646515765.0000 - _runtime: 80.0000\n",
            "Epoch 138/150\n",
            "2/2 [==============================] - 0s 36ms/step - loss: 0.0019 - accuracy: 1.0000 - val_loss: 0.0521 - val_accuracy: 1.0000 - _timestamp: 1646515765.0000 - _runtime: 80.0000\n",
            "Epoch 139/150\n",
            "2/2 [==============================] - 0s 51ms/step - loss: 0.0019 - accuracy: 1.0000 - val_loss: 0.0526 - val_accuracy: 1.0000 - _timestamp: 1646515765.0000 - _runtime: 80.0000\n",
            "Epoch 140/150\n",
            "2/2 [==============================] - 0s 34ms/step - loss: 0.0019 - accuracy: 1.0000 - val_loss: 0.0518 - val_accuracy: 1.0000 - _timestamp: 1646515765.0000 - _runtime: 80.0000\n",
            "Epoch 141/150\n",
            "2/2 [==============================] - 0s 44ms/step - loss: 0.0018 - accuracy: 1.0000 - val_loss: 0.0523 - val_accuracy: 1.0000 - _timestamp: 1646515765.0000 - _runtime: 80.0000\n",
            "Epoch 142/150\n",
            "2/2 [==============================] - 0s 32ms/step - loss: 0.0018 - accuracy: 1.0000 - val_loss: 0.0518 - val_accuracy: 1.0000 - _timestamp: 1646515765.0000 - _runtime: 80.0000\n",
            "Epoch 143/150\n",
            "2/2 [==============================] - 0s 31ms/step - loss: 0.0018 - accuracy: 1.0000 - val_loss: 0.0511 - val_accuracy: 1.0000 - _timestamp: 1646515765.0000 - _runtime: 80.0000\n",
            "Epoch 144/150\n",
            "2/2 [==============================] - 0s 36ms/step - loss: 0.0018 - accuracy: 1.0000 - val_loss: 0.0516 - val_accuracy: 1.0000 - _timestamp: 1646515765.0000 - _runtime: 80.0000\n",
            "Epoch 145/150\n",
            "2/2 [==============================] - 0s 31ms/step - loss: 0.0018 - accuracy: 1.0000 - val_loss: 0.0519 - val_accuracy: 1.0000 - _timestamp: 1646515765.0000 - _runtime: 80.0000\n",
            "Epoch 146/150\n",
            "2/2 [==============================] - 0s 34ms/step - loss: 0.0017 - accuracy: 1.0000 - val_loss: 0.0510 - val_accuracy: 1.0000 - _timestamp: 1646515765.0000 - _runtime: 80.0000\n",
            "Epoch 147/150\n",
            "2/2 [==============================] - 0s 39ms/step - loss: 0.0017 - accuracy: 1.0000 - val_loss: 0.0519 - val_accuracy: 1.0000 - _timestamp: 1646515765.0000 - _runtime: 80.0000\n",
            "Epoch 148/150\n",
            "2/2 [==============================] - 0s 40ms/step - loss: 0.0017 - accuracy: 1.0000 - val_loss: 0.0512 - val_accuracy: 1.0000 - _timestamp: 1646515765.0000 - _runtime: 80.0000\n",
            "Epoch 149/150\n",
            "2/2 [==============================] - 0s 34ms/step - loss: 0.0017 - accuracy: 1.0000 - val_loss: 0.0500 - val_accuracy: 1.0000 - _timestamp: 1646515765.0000 - _runtime: 80.0000\n",
            "Epoch 150/150\n",
            "2/2 [==============================] - 0s 65ms/step - loss: 0.0017 - accuracy: 1.0000 - val_loss: 0.0490 - val_accuracy: 1.0000 - _timestamp: 1646515766.0000 - _runtime: 81.0000\n"
          ]
        },
        {
          "output_type": "execute_result",
          "data": {
            "text/plain": [
              "<keras.callbacks.History at 0x7f9151924b10>"
            ]
          },
          "metadata": {},
          "execution_count": 49
        }
      ]
    },
    {
      "cell_type": "code",
      "source": [
        "model.evaluate(X_test, Y_test)"
      ],
      "metadata": {
        "colab": {
          "base_uri": "https://localhost:8080/"
        },
        "id": "1HukuWW7wV66",
        "outputId": "a9031c9d-b59c-4a2e-9d71-c0448a6a41dc"
      },
      "execution_count": 50,
      "outputs": [
        {
          "output_type": "stream",
          "name": "stdout",
          "text": [
            "1/1 [==============================] - 0s 24ms/step - loss: 0.0490 - accuracy: 1.0000\n"
          ]
        },
        {
          "output_type": "execute_result",
          "data": {
            "text/plain": [
              "[0.04903601109981537, 1.0]"
            ]
          },
          "metadata": {},
          "execution_count": 50
        }
      ]
    },
    {
      "cell_type": "markdown",
      "source": [
        "**Test**"
      ],
      "metadata": {
        "id": "ECid9iIexqj8"
      }
    },
    {
      "cell_type": "code",
      "source": [
        "test_img= DeepFace.represent(img_path = '0 (55).jpg' , model_name = 'Facenet')\n",
        "\n",
        "result = model.predict([test_img])\n",
        "np.argmax(result)"
      ],
      "metadata": {
        "colab": {
          "base_uri": "https://localhost:8080/"
        },
        "id": "-hCkoe9jxUfR",
        "outputId": "b9536365-c01a-4bd7-c26f-1ff18a912225"
      },
      "execution_count": 51,
      "outputs": [
        {
          "output_type": "execute_result",
          "data": {
            "text/plain": [
              "0"
            ]
          },
          "metadata": {},
          "execution_count": 51
        }
      ]
    }
  ]
}